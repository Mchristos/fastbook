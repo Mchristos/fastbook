{
 "cells": [
  {
   "cell_type": "markdown",
   "metadata": {
    "id": "whK3KxX96LLk"
   },
   "source": [
    "# NLP Deep Dive with RNNs"
   ]
  },
  {
   "cell_type": "code",
   "execution_count": 3,
   "metadata": {
    "executionInfo": {
     "elapsed": 14,
     "status": "ok",
     "timestamp": 1662025467212,
     "user": {
      "displayName": "Chris Marais",
      "userId": "12545716403697221618"
     },
     "user_tz": -120
    },
    "id": "azdWjvVbx7SM"
   },
   "outputs": [],
   "source": [
    "from fastai.text.all import * "
   ]
  },
  {
   "cell_type": "code",
   "execution_count": 4,
   "metadata": {
    "colab": {
     "base_uri": "https://localhost:8080/",
     "height": 37
    },
    "executionInfo": {
     "elapsed": 36667,
     "status": "ok",
     "timestamp": 1662025503866,
     "user": {
      "displayName": "Chris Marais",
      "userId": "12545716403697221618"
     },
     "user_tz": -120
    },
    "id": "66MuH5Pkya7Z",
    "outputId": "580c8b6e-8665-4ac1-ac37-5e3a5c50f609"
   },
   "outputs": [],
   "source": [
    "path = untar_data(URLs.IMDB)"
   ]
  },
  {
   "cell_type": "code",
   "execution_count": 5,
   "metadata": {
    "colab": {
     "base_uri": "https://localhost:8080/"
    },
    "executionInfo": {
     "elapsed": 8,
     "status": "ok",
     "timestamp": 1662025503867,
     "user": {
      "displayName": "Chris Marais",
      "userId": "12545716403697221618"
     },
     "user_tz": -120
    },
    "id": "B3BNx9Y50SN7",
    "outputId": "819c3ebb-8ee8-4ef6-8260-96c7a76f2831"
   },
   "outputs": [
    {
     "data": {
      "text/plain": [
       "(#8) [Path('/home/jupyter/.fastai/data/imdb/test'),Path('/home/jupyter/.fastai/data/imdb/tmp_lm'),Path('/home/jupyter/.fastai/data/imdb/imdb.vocab'),Path('/home/jupyter/.fastai/data/imdb/train'),Path('/home/jupyter/.fastai/data/imdb/unsup'),Path('/home/jupyter/.fastai/data/imdb/models'),Path('/home/jupyter/.fastai/data/imdb/tmp_clas'),Path('/home/jupyter/.fastai/data/imdb/README')]"
      ]
     },
     "execution_count": 5,
     "metadata": {},
     "output_type": "execute_result"
    }
   ],
   "source": [
    "path.ls()"
   ]
  },
  {
   "cell_type": "code",
   "execution_count": 6,
   "metadata": {
    "executionInfo": {
     "elapsed": 1185,
     "status": "ok",
     "timestamp": 1662025505045,
     "user": {
      "displayName": "Chris Marais",
      "userId": "12545716403697221618"
     },
     "user_tz": -120
    },
    "id": "89uRQFnk0d1E"
   },
   "outputs": [],
   "source": [
    "files = get_text_files(path, folders=['train', 'test', 'unsup'])"
   ]
  },
  {
   "cell_type": "code",
   "execution_count": 7,
   "metadata": {
    "colab": {
     "base_uri": "https://localhost:8080/",
     "height": 209
    },
    "executionInfo": {
     "elapsed": 12,
     "status": "ok",
     "timestamp": 1662025505047,
     "user": {
      "displayName": "Chris Marais",
      "userId": "12545716403697221618"
     },
     "user_tz": -120
    },
    "id": "ocIXHHHn09IF",
    "outputId": "419a0bf5-e624-4074-e169-c86618fdb0ac"
   },
   "outputs": [
    {
     "data": {
      "text/plain": [
       "\"This movie was a modern day scarface.It had me on my toes.This movie is one of those rare epic films that makes you want a sequel.I especially liked Damian Chapa his performance deserved an academy award,which he deserved for his performance in blood in blood out.The only thing I didn't like was the behind the scenes because it didn't show the intensity that the movie had,and i would have like to have seen less narrated scenes.But the movie was great and it is in my top ten movies of all time.Plus the acting was great there wasn't a bad scene in the movie,I loved it ,Jennifer Tilly was perfect as well as all of the cast.I can't see how anyone wouldn't like this movie it was a great.Definitely a must see.\""
      ]
     },
     "execution_count": 7,
     "metadata": {},
     "output_type": "execute_result"
    }
   ],
   "source": [
    "txt = files[0].open().read(); txt"
   ]
  },
  {
   "cell_type": "markdown",
   "metadata": {
    "id": "6qk67zzy6T6g"
   },
   "source": [
    "## Tokenization"
   ]
  },
  {
   "cell_type": "code",
   "execution_count": 8,
   "metadata": {
    "colab": {
     "base_uri": "https://localhost:8080/"
    },
    "executionInfo": {
     "elapsed": 14980,
     "status": "ok",
     "timestamp": 1662025520018,
     "user": {
      "displayName": "Chris Marais",
      "userId": "12545716403697221618"
     },
     "user_tz": -120
    },
    "id": "oNd3neRa0_sS",
    "outputId": "5761277e-f0f6-4b4b-ea11-b419453faa18"
   },
   "outputs": [
    {
     "data": {
      "text/plain": [
       "<fastai.text.core.SpacyTokenizer at 0x7f62f23b9210>"
      ]
     },
     "execution_count": 8,
     "metadata": {},
     "output_type": "execute_result"
    }
   ],
   "source": [
    "spacy = WordTokenizer()\n",
    "spacy"
   ]
  },
  {
   "cell_type": "code",
   "execution_count": 9,
   "metadata": {
    "colab": {
     "base_uri": "https://localhost:8080/"
    },
    "executionInfo": {
     "elapsed": 39,
     "status": "ok",
     "timestamp": 1662025520019,
     "user": {
      "displayName": "Chris Marais",
      "userId": "12545716403697221618"
     },
     "user_tz": -120
    },
    "id": "eKRv1qcU1IoM",
    "outputId": "f694ec7f-6785-4b32-c91b-c601b10e20cc"
   },
   "outputs": [
    {
     "data": {
      "text/plain": [
       "(#160) ['This','movie','was','a','modern','day','scarface','.','It','had'...]"
      ]
     },
     "execution_count": 9,
     "metadata": {},
     "output_type": "execute_result"
    }
   ],
   "source": [
    "# spacy tokenizes our text with the deafult settings here, tokenizing by spaces \n",
    "toks = first(spacy([txt])); toks"
   ]
  },
  {
   "cell_type": "code",
   "execution_count": 10,
   "metadata": {
    "colab": {
     "base_uri": "https://localhost:8080/"
    },
    "executionInfo": {
     "elapsed": 33,
     "status": "ok",
     "timestamp": 1662025520020,
     "user": {
      "displayName": "Chris Marais",
      "userId": "12545716403697221618"
     },
     "user_tz": -120
    },
    "id": "4dvCvDYM1VWb",
    "outputId": "da3abbad-e4dd-4865-dbd5-6e96148653e3"
   },
   "outputs": [
    {
     "data": {
      "text/plain": [
       "fastcore.foundation.L"
      ]
     },
     "execution_count": 10,
     "metadata": {},
     "output_type": "execute_result"
    }
   ],
   "source": [
    "type(toks)"
   ]
  },
  {
   "cell_type": "code",
   "execution_count": 11,
   "metadata": {
    "colab": {
     "base_uri": "https://localhost:8080/",
     "height": 122
    },
    "executionInfo": {
     "elapsed": 29,
     "status": "ok",
     "timestamp": 1662025520021,
     "user": {
      "displayName": "Chris Marais",
      "userId": "12545716403697221618"
     },
     "user_tz": -120
    },
    "id": "qUfrNnWw2KLe",
    "outputId": "d7c0d729-66d6-4036-e293-63069f680071"
   },
   "outputs": [
    {
     "data": {
      "text/plain": [
       "\"(#160) ['This','movie','was','a','modern','day','scarface','.','It','had','me','on','my','toes','.','This','movie','is','one','of','those','rare','epic','films','that','makes','you','want','a','sequel','.','I','especially','liked','Damian','Chapa','his','performance','deserved','an','academy','award',',','which','he','deserved','for','his','performance','in'...]\""
      ]
     },
     "execution_count": 11,
     "metadata": {},
     "output_type": "execute_result"
    }
   ],
   "source": [
    "# hmm is this fastai function really necessary? just gets a string representation to show more values... 🤷‍♀️\n",
    "coll_repr(toks, 50)"
   ]
  },
  {
   "cell_type": "code",
   "execution_count": 12,
   "metadata": {
    "colab": {
     "base_uri": "https://localhost:8080/",
     "height": 122
    },
    "executionInfo": {
     "elapsed": 28,
     "status": "ok",
     "timestamp": 1662025520023,
     "user": {
      "displayName": "Chris Marais",
      "userId": "12545716403697221618"
     },
     "user_tz": -120
    },
    "id": "SfQgEn8V2dKj",
    "outputId": "33176eb3-75d7-4d16-9624-143c16cdd31c"
   },
   "outputs": [
    {
     "data": {
      "text/plain": [
       "\"(#149) ['xxbos','xxmaj','this','movie','was','a','modern','day','scarface.it','had','me','on','my','toes.this','movie','is','one','of','those','rare','epic','films','that','makes','you','want','a','sequel.i','especially','liked','xxmaj','damian','xxmaj','chapa','his','performance','deserved','an','academy','award',',','which','he','deserved','for','his','performance','in','blood','in'...]\""
      ]
     },
     "execution_count": 12,
     "metadata": {},
     "output_type": "execute_result"
    }
   ],
   "source": [
    "# now lets use fastai's tokenizer \n",
    "tkn = Tokenizer(spacy)\n",
    "coll_repr(tkn(txt), 50)\n",
    "# we see fastai's special tokens representing \"beginning of stream\", \"capital letter incoming!\" etc. "
   ]
  },
  {
   "cell_type": "code",
   "execution_count": 13,
   "metadata": {
    "colab": {
     "base_uri": "https://localhost:8080/"
    },
    "executionInfo": {
     "elapsed": 27,
     "status": "ok",
     "timestamp": 1662025520023,
     "user": {
      "displayName": "Chris Marais",
      "userId": "12545716403697221618"
     },
     "user_tz": -120
    },
    "id": "CiGEXJTE4BBy",
    "outputId": "723eff39-ef1f-4f1a-a15f-03d83ff995f8"
   },
   "outputs": [
    {
     "data": {
      "text/plain": [
       "['xxbos',\n",
       " 'hello',\n",
       " 'xxmaj',\n",
       " 'i',\n",
       " \"'m\",\n",
       " 'going',\n",
       " 'to',\n",
       " 'use',\n",
       " 'an',\n",
       " 'invalid',\n",
       " 'english',\n",
       " 'word',\n",
       " 'tootyfruitcake']"
      ]
     },
     "execution_count": 13,
     "metadata": {},
     "output_type": "execute_result"
    }
   ],
   "source": [
    "list(tkn('hello I\\'m going to use an invalid english word tootyfruitcake'))"
   ]
  },
  {
   "cell_type": "code",
   "execution_count": 14,
   "metadata": {
    "colab": {
     "base_uri": "https://localhost:8080/",
     "height": 52
    },
    "executionInfo": {
     "elapsed": 23,
     "status": "ok",
     "timestamp": 1662025520024,
     "user": {
      "displayName": "Chris Marais",
      "userId": "12545716403697221618"
     },
     "user_tz": -120
    },
    "id": "wmTM-pLR4k56",
    "outputId": "ea90dfd3-d857-4183-8df8-98673fe72f0e"
   },
   "outputs": [
    {
     "data": {
      "text/plain": [
       "\"(#11) ['xxbos','©','xxmaj','fast.ai','xxrep','3','w','.fast.ai','/','xxup','index']\""
      ]
     },
     "execution_count": 14,
     "metadata": {},
     "output_type": "execute_result"
    }
   ],
   "source": [
    "coll_repr(tkn('&copy;     Fast.ai www.fast.ai/INDEX'), 31)"
   ]
  },
  {
   "cell_type": "markdown",
   "metadata": {
    "id": "DO5vN9GT5_5a"
   },
   "source": [
    "## Subword Tokenization"
   ]
  },
  {
   "cell_type": "code",
   "execution_count": 15,
   "metadata": {
    "executionInfo": {
     "elapsed": 811,
     "status": "ok",
     "timestamp": 1662025520814,
     "user": {
      "displayName": "Chris Marais",
      "userId": "12545716403697221618"
     },
     "user_tz": -120
    },
    "id": "Lk-G3yt56HaA"
   },
   "outputs": [],
   "source": [
    "txts = L(f.open().read() for f in files[:2000])"
   ]
  },
  {
   "cell_type": "code",
   "execution_count": 16,
   "metadata": {
    "colab": {
     "base_uri": "https://localhost:8080/"
    },
    "executionInfo": {
     "elapsed": 24,
     "status": "ok",
     "timestamp": 1662025520815,
     "user": {
      "displayName": "Chris Marais",
      "userId": "12545716403697221618"
     },
     "user_tz": -120
    },
    "id": "ZV6GjVsQ6ey0",
    "outputId": "c2d2b9bc-bfcf-4b27-d4e4-bb4291ca8c02"
   },
   "outputs": [
    {
     "data": {
      "text/plain": [
       "2000"
      ]
     },
     "execution_count": 16,
     "metadata": {},
     "output_type": "execute_result"
    }
   ],
   "source": [
    "len(txts)"
   ]
  },
  {
   "cell_type": "code",
   "execution_count": 17,
   "metadata": {
    "colab": {
     "base_uri": "https://localhost:8080/",
     "height": 268
    },
    "executionInfo": {
     "elapsed": 23,
     "status": "ok",
     "timestamp": 1662025520816,
     "user": {
      "displayName": "Chris Marais",
      "userId": "12545716403697221618"
     },
     "user_tz": -120
    },
    "id": "A-BGIixk62y6",
    "outputId": "896a22fe-218a-4b8b-f88d-9ed3d7140589"
   },
   "outputs": [
    {
     "data": {
      "image/png": "[encoded data removed]",
      "text/plain": [
       "<Figure size 432x288 with 1 Axes>"
      ]
     },
     "metadata": {
      "needs_background": "light"
     },
     "output_type": "display_data"
    }
   ],
   "source": [
    "pd.Series([len(t) for t in txts]).hist();"
   ]
  },
  {
   "cell_type": "code",
   "execution_count": 18,
   "metadata": {},
   "outputs": [
    {
     "name": "stdout",
     "output_type": "stream",
     "text": [
      "Requirement already satisfied: sentencepiece!=0.1.90,!=0.1.91 in /opt/conda/lib/python3.7/site-packages (0.1.97)\n"
     ]
    }
   ],
   "source": [
    "! pip install sentencepiece!=0.1.90,!=0.1.91"
   ]
  },
  {
   "cell_type": "code",
   "execution_count": 19,
   "metadata": {
    "colab": {
     "base_uri": "https://localhost:8080/"
    },
    "executionInfo": {
     "elapsed": 20,
     "status": "ok",
     "timestamp": 1662025520816,
     "user": {
      "displayName": "Chris Marais",
      "userId": "12545716403697221618"
     },
     "user_tz": -120
    },
    "id": "jpD41W6Y8TrP",
    "outputId": "709073dc-7974-412e-c98f-c2f9caa45212"
   },
   "outputs": [
    {
     "data": {
      "text/plain": [
       "<fastai.text.core.SentencePieceTokenizer at 0x7f62e2440c50>"
      ]
     },
     "execution_count": 19,
     "metadata": {},
     "output_type": "execute_result"
    }
   ],
   "source": [
    "sp = SubwordTokenizer(vocab_sz=1000)\n",
    "sp"
   ]
  },
  {
   "cell_type": "code",
   "execution_count": 20,
   "metadata": {
    "colab": {
     "base_uri": "https://localhost:8080/",
     "height": 70
    },
    "executionInfo": {
     "elapsed": 9016,
     "status": "ok",
     "timestamp": 1662025529818,
     "user": {
      "displayName": "Chris Marais",
      "userId": "12545716403697221618"
     },
     "user_tz": -120
    },
    "id": "8CKu3nYS7VwY",
    "outputId": "f82d78d6-4d95-4e0b-bc19-f0efb263b1e0"
   },
   "outputs": [
    {
     "data": {
      "text/html": [
       "\n",
       "<style>\n",
       "    /* Turns off some styling */\n",
       "    progress {\n",
       "        /* gets rid of default border in Firefox and Opera. */\n",
       "        border: none;\n",
       "        /* Needs to be in here for Safari polyfill so background images work as expected. */\n",
       "        background-size: auto;\n",
       "    }\n",
       "    progress:not([value]), progress:not([value])::-webkit-progress-bar {\n",
       "        background: repeating-linear-gradient(45deg, #7e7e7e, #7e7e7e 10px, #5c5c5c 10px, #5c5c5c 20px);\n",
       "    }\n",
       "    .progress-bar-interrupted, .progress-bar-interrupted::-webkit-progress-bar {\n",
       "        background: #F44336;\n",
       "    }\n",
       "</style>\n"
      ],
      "text/plain": [
       "<IPython.core.display.HTML object>"
      ]
     },
     "metadata": {},
     "output_type": "display_data"
    },
    {
     "data": {
      "text/html": [],
      "text/plain": [
       "<IPython.core.display.HTML object>"
      ]
     },
     "metadata": {},
     "output_type": "display_data"
    },
    {
     "name": "stderr",
     "output_type": "stream",
     "text": [
      "sentencepiece_trainer.cc(177) LOG(INFO) Running command: --input=tmp/texts.out --vocab_size=1000 --model_prefix=tmp/spm --character_coverage=0.99999 --model_type=unigram --unk_id=9 --pad_id=-1 --bos_id=-1 --eos_id=-1 --minloglevel=2 --user_defined_symbols=▁xxunk,▁xxpad,▁xxbos,▁xxeos,▁xxfld,▁xxrep,▁xxwrep,▁xxup,▁xxmaj --hard_vocab_limit=false\n"
     ]
    },
    {
     "data": {
      "text/plain": [
       "'▁This ▁movie ▁was ▁a ▁mo der n ▁day ▁sc ar f a ce . I t ▁had ▁me ▁on ▁my ▁to es . This ▁movie ▁is ▁one ▁of ▁those ▁ra re ▁e p ic ▁films ▁that ▁makes ▁you ▁want ▁a'"
      ]
     },
     "execution_count": 20,
     "metadata": {},
     "output_type": "execute_result"
    }
   ],
   "source": [
    "sp.setup(txts)\n",
    "\" \".join(first(sp([txt]))[:40])"
   ]
  },
  {
   "cell_type": "code",
   "execution_count": 21,
   "metadata": {
    "executionInfo": {
     "elapsed": 16,
     "status": "ok",
     "timestamp": 1662025529819,
     "user": {
      "displayName": "Chris Marais",
      "userId": "12545716403697221618"
     },
     "user_tz": -120
    },
    "id": "aKg0Uk6A6hQJ"
   },
   "outputs": [],
   "source": [
    "def subword(sz):\n",
    "  \"\"\"\n",
    "  tokenizes our hardcoded text with a given subword token size \n",
    "  \"\"\"\n",
    "  sp = SubwordTokenizer(vocab_sz=sz)\n",
    "  sp.setup(txts)\n",
    "  return \" \".join(first(sp([txt]))[:40])"
   ]
  },
  {
   "cell_type": "code",
   "execution_count": 22,
   "metadata": {
    "colab": {
     "base_uri": "https://localhost:8080/",
     "height": 52
    },
    "executionInfo": {
     "elapsed": 12175,
     "status": "ok",
     "timestamp": 1662025541979,
     "user": {
      "displayName": "Chris Marais",
      "userId": "12545716403697221618"
     },
     "user_tz": -120
    },
    "id": "D2GhigXv-_Zn",
    "outputId": "d90557d3-a4f1-47d6-def2-50edef0a254e"
   },
   "outputs": [
    {
     "data": {
      "text/html": [
       "\n",
       "<style>\n",
       "    /* Turns off some styling */\n",
       "    progress {\n",
       "        /* gets rid of default border in Firefox and Opera. */\n",
       "        border: none;\n",
       "        /* Needs to be in here for Safari polyfill so background images work as expected. */\n",
       "        background-size: auto;\n",
       "    }\n",
       "    progress:not([value]), progress:not([value])::-webkit-progress-bar {\n",
       "        background: repeating-linear-gradient(45deg, #7e7e7e, #7e7e7e 10px, #5c5c5c 10px, #5c5c5c 20px);\n",
       "    }\n",
       "    .progress-bar-interrupted, .progress-bar-interrupted::-webkit-progress-bar {\n",
       "        background: #F44336;\n",
       "    }\n",
       "</style>\n"
      ],
      "text/plain": [
       "<IPython.core.display.HTML object>"
      ]
     },
     "metadata": {},
     "output_type": "display_data"
    },
    {
     "data": {
      "text/html": [],
      "text/plain": [
       "<IPython.core.display.HTML object>"
      ]
     },
     "metadata": {},
     "output_type": "display_data"
    },
    {
     "data": {
      "text/plain": [
       "'▁ T h i s ▁movie ▁was ▁a ▁mo d er n ▁ d a y ▁ s c ar f a ce . I t ▁h a d ▁ m e ▁on ▁ m y ▁to es . T'"
      ]
     },
     "execution_count": 22,
     "metadata": {},
     "output_type": "execute_result"
    }
   ],
   "source": [
    "subword(200)"
   ]
  },
  {
   "cell_type": "markdown",
   "metadata": {
    "id": "TLy9KTwk_IuV"
   },
   "source": [
    "## Numericalization\n",
    "\n",
    "We need to map each token to an index so we can represent words in our model "
   ]
  },
  {
   "cell_type": "code",
   "execution_count": 23,
   "metadata": {
    "colab": {
     "base_uri": "https://localhost:8080/"
    },
    "executionInfo": {
     "elapsed": 31,
     "status": "ok",
     "timestamp": 1662025542001,
     "user": {
      "displayName": "Chris Marais",
      "userId": "12545716403697221618"
     },
     "user_tz": -120
    },
    "id": "xvxQ753lALV3",
    "outputId": "1315d7a6-89f7-4bfb-fb75-f5c908ad6360"
   },
   "outputs": [
    {
     "data": {
      "text/plain": [
       "(#149) ['xxbos','xxmaj','this','movie','was','a','modern','day','scarface.it','had'...]"
      ]
     },
     "execution_count": 23,
     "metadata": {},
     "output_type": "execute_result"
    }
   ],
   "source": [
    "tkn(txts[0])"
   ]
  },
  {
   "cell_type": "code",
   "execution_count": 24,
   "metadata": {
    "colab": {
     "base_uri": "https://localhost:8080/"
    },
    "executionInfo": {
     "elapsed": 1110,
     "status": "ok",
     "timestamp": 1662025543083,
     "user": {
      "displayName": "Chris Marais",
      "userId": "12545716403697221618"
     },
     "user_tz": -120
    },
    "id": "ok6jHd8UAUul",
    "outputId": "cb410341-148d-4afe-8080-cd0806cf53e3"
   },
   "outputs": [
    {
     "data": {
      "text/plain": [
       "(#149) ['xxbos','xxmaj','this','movie','was','a','modern','day','scarface.it','had'...]"
      ]
     },
     "execution_count": 24,
     "metadata": {},
     "output_type": "execute_result"
    }
   ],
   "source": [
    "# tokenize the first 200 documents \n",
    "toks200 = txts[:200].map(tkn)\n",
    "toks200[0]"
   ]
  },
  {
   "cell_type": "code",
   "execution_count": 25,
   "metadata": {
    "colab": {
     "base_uri": "https://localhost:8080/"
    },
    "executionInfo": {
     "elapsed": 41,
     "status": "ok",
     "timestamp": 1662025543084,
     "user": {
      "displayName": "Chris Marais",
      "userId": "12545716403697221618"
     },
     "user_tz": -120
    },
    "id": "ELenUItfAqab",
    "outputId": "d1f0b21e-68e8-4469-a5ff-1461ee7d1806"
   },
   "outputs": [
    {
     "data": {
      "text/plain": [
       "['xxunk',\n",
       " 'xxpad',\n",
       " 'xxbos',\n",
       " 'xxeos',\n",
       " 'xxfld',\n",
       " 'xxrep',\n",
       " 'xxwrep',\n",
       " 'xxup',\n",
       " 'xxmaj',\n",
       " 'the']"
      ]
     },
     "execution_count": 25,
     "metadata": {},
     "output_type": "execute_result"
    }
   ],
   "source": [
    "# set indices for the tokens that occur in the first 200 documents\n",
    "num = Numericalize()\n",
    "num.setup(toks200)\n",
    "list(num.vocab)[:10]"
   ]
  },
  {
   "cell_type": "code",
   "execution_count": 26,
   "metadata": {
    "colab": {
     "base_uri": "https://localhost:8080/"
    },
    "executionInfo": {
     "elapsed": 35,
     "status": "ok",
     "timestamp": 1662025543086,
     "user": {
      "displayName": "Chris Marais",
      "userId": "12545716403697221618"
     },
     "user_tz": -120
    },
    "id": "Q2Ucm91-Azde",
    "outputId": "0d4f4531-5000-40dc-992e-cd1bc972720f"
   },
   "outputs": [
    {
     "data": {
      "text/plain": [
       "TensorText([   2,    8,   20,   27,   25,   13,  628,  203,    0,   86,   83,\n",
       "              36,   73,    0,   27,   15,   39,   14,  150,  711, 1034,  148,\n",
       "              21,  162,   33,  191,   13,    0,  265,  304,    8,    0,    8,\n",
       "               0,   35,  239,  512,   49,    0,    0,   11,   89,   34,  512,\n",
       "              28,   35,  239,   17, 1035,   17])"
      ]
     },
     "execution_count": 26,
     "metadata": {},
     "output_type": "execute_result"
    }
   ],
   "source": [
    "toks = toks200[0] \n",
    "nums = num(toks)[:50]; nums"
   ]
  },
  {
   "cell_type": "code",
   "execution_count": 27,
   "metadata": {
    "colab": {
     "base_uri": "https://localhost:8080/",
     "height": 87
    },
    "executionInfo": {
     "elapsed": 29,
     "status": "ok",
     "timestamp": 1662025543086,
     "user": {
      "displayName": "Chris Marais",
      "userId": "12545716403697221618"
     },
     "user_tz": -120
    },
    "id": "ixfeUqDtB0T2",
    "outputId": "e4f04a9f-816d-4794-e4cd-d555618c6080"
   },
   "outputs": [
    {
     "data": {
      "text/plain": [
       "'xxbos xxmaj this movie was a modern day xxunk had me on my xxunk movie is one of those rare epic films that makes you want a xxunk especially liked xxmaj xxunk xxmaj xxunk his performance deserved an xxunk xxunk , which he deserved for his performance in blood in'"
      ]
     },
     "execution_count": 27,
     "metadata": {},
     "output_type": "execute_result"
    }
   ],
   "source": [
    "' '.join(num.vocab[i] for i in nums)"
   ]
  },
  {
   "cell_type": "code",
   "execution_count": 28,
   "metadata": {
    "colab": {
     "base_uri": "https://localhost:8080/",
     "height": 209
    },
    "executionInfo": {
     "elapsed": 30,
     "status": "ok",
     "timestamp": 1662025543088,
     "user": {
      "displayName": "Chris Marais",
      "userId": "12545716403697221618"
     },
     "user_tz": -120
    },
    "id": "O21RCaCKB5j9",
    "outputId": "0a051d96-d557-42dc-e909-87a4c80b309c"
   },
   "outputs": [
    {
     "data": {
      "text/plain": [
       "\"This movie was a modern day scarface.It had me on my toes.This movie is one of those rare epic films that makes you want a sequel.I especially liked Damian Chapa his performance deserved an academy award,which he deserved for his performance in blood in blood out.The only thing I didn't like was the behind the scenes because it didn't show the intensity that the movie had,and i would have like to have seen less narrated scenes.But the movie was great and it is in my top ten movies of all time.Plus the acting was great there wasn't a bad scene in the movie,I loved it ,Jennifer Tilly was perfect as well as all of the cast.I can't see how anyone wouldn't like this movie it was a great.Definitely a must see.\""
      ]
     },
     "execution_count": 28,
     "metadata": {},
     "output_type": "execute_result"
    }
   ],
   "source": [
    "txts[0]"
   ]
  },
  {
   "cell_type": "markdown",
   "metadata": {
    "id": "M-k5b26TCKEe"
   },
   "source": [
    "## Put the numbers in a model "
   ]
  },
  {
   "cell_type": "code",
   "execution_count": 29,
   "metadata": {
    "colab": {
     "base_uri": "https://localhost:8080/"
    },
    "executionInfo": {
     "elapsed": 30,
     "status": "ok",
     "timestamp": 1662025543089,
     "user": {
      "displayName": "Chris Marais",
      "userId": "12545716403697221618"
     },
     "user_tz": -120
    },
    "id": "AZaKoNaCCpnU",
    "outputId": "9429a3bf-44ab-4a6d-b395-e1981ace55a5"
   },
   "outputs": [
    {
     "data": {
      "text/plain": [
       "TensorText([   2,    8,   20,   27,   25,   13,  628,  203,    0,   86,   83,\n",
       "              36,   73,    0,   27,   15,   39,   14,  150,  711, 1034,  148,\n",
       "              21,  162,   33,  191,   13,    0,  265,  304,    8,    0,    8,\n",
       "               0,   35,  239,  512,   49,    0,    0,   11,   89,   34,  512,\n",
       "              28,   35,  239,   17, 1035,   17, 1035,    0,   88,  192,   19,\n",
       "             110,   40,   52,   25,    9,  712,    9,  164,  127,   18,  110,\n",
       "              40,   99,    9,    0,   21,    9,   27,   86,   11,   12,   19,\n",
       "              78,   47,   52,   16,   47,  121,  713,    0,    0,    9,   27,\n",
       "              25,   63,   12,   18,   15,   17,   73,  325,  854,  105,   14,\n",
       "              46,    0,    9,  142,   25,   63,   56,   25,   40,   13,  193,\n",
       "             194,   17,    9,   27,   11,   19,  251,   18,   11, 1323,    8,\n",
       "               0,   25,  289,   24,   80,   24,   46,   14,    9,    0,  227,\n",
       "              40,   69,  103,  209,   78,   40,   52,   20,   27,   18,   25,\n",
       "              13,    0,   13,  186,   69,   10])"
      ]
     },
     "execution_count": 29,
     "metadata": {},
     "output_type": "execute_result"
    }
   ],
   "source": [
    "nums200 = toks200.map(num)\n",
    "nums200[0]"
   ]
  },
  {
   "cell_type": "code",
   "execution_count": 30,
   "metadata": {
    "executionInfo": {
     "elapsed": 26,
     "status": "ok",
     "timestamp": 1662025543090,
     "user": {
      "displayName": "Chris Marais",
      "userId": "12545716403697221618"
     },
     "user_tz": -120
    },
    "id": "8sW2yzdIamHK"
   },
   "outputs": [],
   "source": [
    "# language model dataloader\n",
    "# LMDataLoader??"
   ]
  },
  {
   "cell_type": "code",
   "execution_count": 31,
   "metadata": {
    "executionInfo": {
     "elapsed": 39,
     "status": "ok",
     "timestamp": 1662025543104,
     "user": {
      "displayName": "Chris Marais",
      "userId": "12545716403697221618"
     },
     "user_tz": -120
    },
    "id": "3IZU2iZIagyC"
   },
   "outputs": [],
   "source": [
    "dl = LMDataLoader(nums200)"
   ]
  },
  {
   "cell_type": "code",
   "execution_count": 32,
   "metadata": {
    "colab": {
     "base_uri": "https://localhost:8080/"
    },
    "executionInfo": {
     "elapsed": 39,
     "status": "ok",
     "timestamp": 1662025543105,
     "user": {
      "displayName": "Chris Marais",
      "userId": "12545716403697221618"
     },
     "user_tz": -120
    },
    "id": "UbLMWSOzavjb",
    "outputId": "7b485449-f313-4478-88d2-b427290aef3c"
   },
   "outputs": [
    {
     "data": {
      "text/plain": [
       "(torch.Size([64, 72]), torch.Size([64, 72]))"
      ]
     },
     "execution_count": 32,
     "metadata": {},
     "output_type": "execute_result"
    }
   ],
   "source": [
    "x, y = first(dl)\n",
    "x.shape, y.shape"
   ]
  },
  {
   "cell_type": "code",
   "execution_count": 33,
   "metadata": {
    "colab": {
     "base_uri": "https://localhost:8080/"
    },
    "executionInfo": {
     "elapsed": 35,
     "status": "ok",
     "timestamp": 1662025543105,
     "user": {
      "displayName": "Chris Marais",
      "userId": "12545716403697221618"
     },
     "user_tz": -120
    },
    "id": "qIae4ojDayn-",
    "outputId": "e065d11a-0782-436f-e290-4e1bb876bdbb"
   },
   "outputs": [
    {
     "data": {
      "text/plain": [
       "LMTensorText([[   2,    8,   20,  ...,    0,   21,    9],\n",
       "              [   9,  721,   43,  ...,   49, 1047,   78],\n",
       "              [  13,  253,    0,  ...,    0,   37,   10],\n",
       "              ...,\n",
       "              [   8,   63,  105,  ...,  648,    9,  701],\n",
       "              [ 147,   37,   15,  ...,    8,   19,  160],\n",
       "              [  27,    8,    0,  ...,   47,   70,  437]])"
      ]
     },
     "execution_count": 33,
     "metadata": {},
     "output_type": "execute_result"
    }
   ],
   "source": [
    "x"
   ]
  },
  {
   "cell_type": "code",
   "execution_count": 34,
   "metadata": {
    "executionInfo": {
     "elapsed": 700,
     "status": "ok",
     "timestamp": 1662025543773,
     "user": {
      "displayName": "Chris Marais",
      "userId": "12545716403697221618"
     },
     "user_tz": -120
    },
    "id": "k8BOGEbra39i"
   },
   "outputs": [],
   "source": [
    "# LmTensorText -> TensorText -> TensorBase (fastai) -> Tensor (pytorch)\n",
    "# TensorBase??"
   ]
  },
  {
   "cell_type": "code",
   "execution_count": 35,
   "metadata": {
    "colab": {
     "base_uri": "https://localhost:8080/"
    },
    "executionInfo": {
     "elapsed": 40,
     "status": "ok",
     "timestamp": 1662025543784,
     "user": {
      "displayName": "Chris Marais",
      "userId": "12545716403697221618"
     },
     "user_tz": -120
    },
    "id": "zGiQldKccyOx",
    "outputId": "976c0ce2-f16a-4fe6-d188-c7b30e3c4ce2"
   },
   "outputs": [
    {
     "name": "stdout",
     "output_type": "stream",
     "text": [
      "Pretty printing has been turned OFF\n"
     ]
    }
   ],
   "source": [
    " %pprint"
   ]
  },
  {
   "cell_type": "code",
   "execution_count": 36,
   "metadata": {
    "colab": {
     "base_uri": "https://localhost:8080/"
    },
    "executionInfo": {
     "elapsed": 37,
     "status": "ok",
     "timestamp": 1662025543785,
     "user": {
      "displayName": "Chris Marais",
      "userId": "12545716403697221618"
     },
     "user_tz": -120
    },
    "id": "Utm88dhZa9aH",
    "outputId": "a809ede8-fd41-4863-9610-733a11331265"
   },
   "outputs": [
    {
     "data": {
      "text/plain": [
       "['xxbos', 'xxmaj', 'this', 'movie', 'was', 'a', 'modern', 'day', 'xxunk', 'had', 'me', 'on', 'my', 'xxunk', 'movie', 'is', 'one', 'of', 'those', 'rare', 'epic', 'films', 'that', 'makes', 'you', 'want', 'a', 'xxunk', 'especially', 'liked', 'xxmaj', 'xxunk', 'xxmaj', 'xxunk', 'his', 'performance', 'deserved', 'an', 'xxunk', 'xxunk', ',', 'which', 'he', 'deserved', 'for', 'his', 'performance', 'in', 'blood', 'in', 'blood', 'xxunk', 'only', 'thing', 'i', 'did', \"n't\", 'like', 'was', 'the', 'behind', 'the', 'scenes', 'because', 'it', 'did', \"n't\", 'show', 'the', 'xxunk', 'that', 'the']"
      ]
     },
     "execution_count": 36,
     "metadata": {},
     "output_type": "execute_result"
    }
   ],
   "source": [
    "[num.vocab[a] for a in x[0,:]]"
   ]
  },
  {
   "cell_type": "code",
   "execution_count": 37,
   "metadata": {
    "colab": {
     "base_uri": "https://localhost:8080/"
    },
    "executionInfo": {
     "elapsed": 30,
     "status": "ok",
     "timestamp": 1662025543785,
     "user": {
      "displayName": "Chris Marais",
      "userId": "12545716403697221618"
     },
     "user_tz": -120
    },
    "id": "GuFYo6jXbpqi",
    "outputId": "33078396-13aa-4dab-db0e-28359b7ae42f"
   },
   "outputs": [
    {
     "data": {
      "text/plain": [
       "['xxmaj', 'this', 'movie', 'was', 'a', 'modern', 'day', 'xxunk', 'had', 'me', 'on', 'my', 'xxunk', 'movie', 'is', 'one', 'of', 'those', 'rare', 'epic', 'films', 'that', 'makes', 'you', 'want', 'a', 'xxunk', 'especially', 'liked', 'xxmaj', 'xxunk', 'xxmaj', 'xxunk', 'his', 'performance', 'deserved', 'an', 'xxunk', 'xxunk', ',', 'which', 'he', 'deserved', 'for', 'his', 'performance', 'in', 'blood', 'in', 'blood', 'xxunk', 'only', 'thing', 'i', 'did', \"n't\", 'like', 'was', 'the', 'behind', 'the', 'scenes', 'because', 'it', 'did', \"n't\", 'show', 'the', 'xxunk', 'that', 'the', 'movie']"
      ]
     },
     "execution_count": 37,
     "metadata": {},
     "output_type": "execute_result"
    }
   ],
   "source": [
    "[num.vocab[a] for a in y[0,:]]"
   ]
  },
  {
   "cell_type": "markdown",
   "metadata": {
    "id": "IC_uKV7ldHPc"
   },
   "source": [
    "So the \"label\" is just the same sequence but offset by one token, i.e. containing the final \"completed\" token for the sequence. Interesting... "
   ]
  },
  {
   "cell_type": "markdown",
   "metadata": {
    "id": "t2S64h-JdVCK"
   },
   "source": [
    "From book RE using built-in APIs to handle numericalization and tokenization. i.e., you don't actually have to manually set up these steps, they're built into TextBLock \n",
    "\n",
    "*fastai handles tokenization and numericalization automatically when TextBlock is passed to DataBlock. All of the arguments that can be passed to Tokenize and Numericalize can also be passed to TextBlock. In the next chapter we'll discuss the easiest ways to run each of these steps separately, to ease debugging—but you can always just debug by running them manually on a subset of your data as shown in the previous sections. And don't forget about DataBlock's handy summary method, which is very useful for debugging data issues.*"
   ]
  },
  {
   "cell_type": "code",
   "execution_count": 38,
   "metadata": {
    "executionInfo": {
     "elapsed": 30,
     "status": "ok",
     "timestamp": 1662025543795,
     "user": {
      "displayName": "Chris Marais",
      "userId": "12545716403697221618"
     },
     "user_tz": -120
    },
    "id": "8TgHVVKkUiM4"
   },
   "outputs": [],
   "source": [
    "# returns a list of file paths given the imdb base path \n",
    "get_imdb = partial(get_text_files, folders=['train', 'test', 'unsup'])"
   ]
  },
  {
   "cell_type": "code",
   "execution_count": 39,
   "metadata": {
    "colab": {
     "background_save": true,
     "base_uri": "https://localhost:8080/",
     "height": 37
    },
    "id": "pFf-9B69Usn-"
   },
   "outputs": [],
   "source": [
    "# data loaders: language model\n",
    "\n",
    "dls_lm = DataBlock(\n",
    "    blocks=TextBlock.from_folder(path, is_lm=True),\n",
    "    get_items=get_imdb, \n",
    "    splitter=RandomSplitter(0.1)\n",
    ").dataloaders(path, path=path, bs=128, seq_len=80)"
   ]
  },
  {
   "cell_type": "code",
   "execution_count": 40,
   "metadata": {
    "colab": {
     "background_save": true
    },
    "id": "0B1qXghGW1uM"
   },
   "outputs": [
    {
     "data": {
      "text/html": [
       "<table border=\"1\" class=\"dataframe\">\n",
       "  <thead>\n",
       "    <tr style=\"text-align: right;\">\n",
       "      <th></th>\n",
       "      <th>text</th>\n",
       "      <th>text_</th>\n",
       "    </tr>\n",
       "  </thead>\n",
       "  <tbody>\n",
       "    <tr>\n",
       "      <th>0</th>\n",
       "      <td>xxbos a new side to the story of xxmaj victoria and xxmaj albert is brought to life by director jean - marc xxmaj xxunk . xxmaj most people 's cursory thoughts of xxmaj queen xxmaj victoria is that of woman who reigned for several decades and lived her life in mourning . xxmaj emily xxmaj blunt is more than capable in the title role as she gives audiences a different perspective . xxmaj she portrays xxmaj victoria in her youth</td>\n",
       "      <td>a new side to the story of xxmaj victoria and xxmaj albert is brought to life by director jean - marc xxmaj xxunk . xxmaj most people 's cursory thoughts of xxmaj queen xxmaj victoria is that of woman who reigned for several decades and lived her life in mourning . xxmaj emily xxmaj blunt is more than capable in the title role as she gives audiences a different perspective . xxmaj she portrays xxmaj victoria in her youth ,</td>\n",
       "    </tr>\n",
       "    <tr>\n",
       "      <th>1</th>\n",
       "      <td>the inside of a snow - globe , but xxmaj farrow gets a startling dose of reality after he admits he 's hired a man to kill her . xxmaj she flees into the night , taking refuge with a very strange couple who want to help her rebuild her life . xxmaj the production design and art direction of \" reckless \" are fine , but they are services rendered for a completely inane , often alienating screenplay .</td>\n",
       "      <td>inside of a snow - globe , but xxmaj farrow gets a startling dose of reality after he admits he 's hired a man to kill her . xxmaj she flees into the night , taking refuge with a very strange couple who want to help her rebuild her life . xxmaj the production design and art direction of \" reckless \" are fine , but they are services rendered for a completely inane , often alienating screenplay . xxmaj</td>\n",
       "    </tr>\n",
       "  </tbody>\n",
       "</table>"
      ],
      "text/plain": [
       "<IPython.core.display.HTML object>"
      ]
     },
     "metadata": {},
     "output_type": "display_data"
    }
   ],
   "source": [
    "dls_lm.show_batch(max_n=2)"
   ]
  },
  {
   "cell_type": "markdown",
   "metadata": {
    "id": "mvnmvg9JZK4n"
   },
   "source": [
    "### Let's train the damn thing"
   ]
  },
  {
   "cell_type": "code",
   "execution_count": 41,
   "metadata": {},
   "outputs": [],
   "source": [
    "# AWD_LSTM??"
   ]
  },
  {
   "cell_type": "code",
   "execution_count": 42,
   "metadata": {
    "colab": {
     "background_save": true
    },
    "id": "0NiIAiIqatL4"
   },
   "outputs": [],
   "source": [
    "learn = language_model_learner(\n",
    "    dls_lm, AWD_LSTM, drop_mult=0.3, \n",
    "    metrics=[accuracy, Perplexity()]).to_fp16()"
   ]
  },
  {
   "cell_type": "code",
   "execution_count": 42,
   "metadata": {},
   "outputs": [
    {
     "name": "stdout",
     "output_type": "stream",
     "text": [
      "True\n",
      "False\n",
      "False\n",
      "False\n",
      "False\n",
      "False\n",
      "False\n",
      "False\n",
      "False\n",
      "False\n",
      "False\n",
      "False\n",
      "False\n",
      "True\n"
     ]
    }
   ],
   "source": [
    "# NOTE language_model_learner automatically freezes the parameters of the pretrained model, adding new \n",
    "# parameters for any new tokens in the vocab \n",
    "\n",
    "# we illustrate this below by showing that most parameters do not have gradients enabled \n",
    "for param in learn.model.parameters():\n",
    "    print(param.requires_grad)"
   ]
  },
  {
   "cell_type": "code",
   "execution_count": null,
   "metadata": {
    "colab": {
     "background_save": true
    },
    "id": "3uDUd7SUauu4"
   },
   "outputs": [
    {
     "data": {
      "text/html": [
       "\n",
       "<style>\n",
       "    /* Turns off some styling */\n",
       "    progress {\n",
       "        /* gets rid of default border in Firefox and Opera. */\n",
       "        border: none;\n",
       "        /* Needs to be in here for Safari polyfill so background images work as expected. */\n",
       "        background-size: auto;\n",
       "    }\n",
       "    progress:not([value]), progress:not([value])::-webkit-progress-bar {\n",
       "        background: repeating-linear-gradient(45deg, #7e7e7e, #7e7e7e 10px, #5c5c5c 10px, #5c5c5c 20px);\n",
       "    }\n",
       "    .progress-bar-interrupted, .progress-bar-interrupted::-webkit-progress-bar {\n",
       "        background: #F44336;\n",
       "    }\n",
       "</style>\n"
      ],
      "text/plain": [
       "<IPython.core.display.HTML object>"
      ]
     },
     "metadata": {},
     "output_type": "display_data"
    },
    {
     "data": {
      "text/html": [
       "\n",
       "    <div>\n",
       "      <progress value='0' class='' max='1' style='width:300px; height:20px; vertical-align: middle;'></progress>\n",
       "      0.00% [0/1 00:00&lt;?]\n",
       "    </div>\n",
       "    \n",
       "<table border=\"1\" class=\"dataframe\">\n",
       "  <thead>\n",
       "    <tr style=\"text-align: left;\">\n",
       "      <th>epoch</th>\n",
       "      <th>train_loss</th>\n",
       "      <th>valid_loss</th>\n",
       "      <th>accuracy</th>\n",
       "      <th>perplexity</th>\n",
       "      <th>time</th>\n",
       "    </tr>\n",
       "  </thead>\n",
       "  <tbody>\n",
       "  </tbody>\n",
       "</table><p>\n",
       "\n",
       "    <div>\n",
       "      <progress value='158' class='' max='2631' style='width:300px; height:20px; vertical-align: middle;'></progress>\n",
       "      6.01% [158/2631 02:44&lt;42:55 4.4850]\n",
       "    </div>\n",
       "    "
      ],
      "text/plain": [
       "<IPython.core.display.HTML object>"
      ]
     },
     "metadata": {},
     "output_type": "display_data"
    }
   ],
   "source": [
    "learn.fit_one_cycle(1, 2e-2)"
   ]
  },
  {
   "cell_type": "code",
   "execution_count": 47,
   "metadata": {
    "id": "v5suQQBva7cX"
   },
   "outputs": [
    {
     "data": {
      "text/html": [
       "\n",
       "<style>\n",
       "    /* Turns off some styling */\n",
       "    progress {\n",
       "        /* gets rid of default border in Firefox and Opera. */\n",
       "        border: none;\n",
       "        /* Needs to be in here for Safari polyfill so background images work as expected. */\n",
       "        background-size: auto;\n",
       "    }\n",
       "    progress:not([value]), progress:not([value])::-webkit-progress-bar {\n",
       "        background: repeating-linear-gradient(45deg, #7e7e7e, #7e7e7e 10px, #5c5c5c 10px, #5c5c5c 20px);\n",
       "    }\n",
       "    .progress-bar-interrupted, .progress-bar-interrupted::-webkit-progress-bar {\n",
       "        background: #F44336;\n",
       "    }\n",
       "</style>\n"
      ],
      "text/plain": [
       "<IPython.core.display.HTML object>"
      ]
     },
     "metadata": {},
     "output_type": "display_data"
    },
    {
     "data": {
      "text/html": [],
      "text/plain": [
       "<IPython.core.display.HTML object>"
      ]
     },
     "metadata": {},
     "output_type": "display_data"
    },
    {
     "data": {
      "text/plain": [
       "\"this movie was alright . It is not bad . \\n\\n The story revolved around what happened , and one problem did n't get clear . \\n\\n It 's sick especially about a young scientist to meet up with Eva as the commander of the vital submarine ( indeed\""
      ]
     },
     "execution_count": 47,
     "metadata": {},
     "output_type": "execute_result"
    }
   ],
   "source": [
    "learn.predict(\"this movie was\", n_words=50)"
   ]
  },
  {
   "cell_type": "code",
   "execution_count": 48,
   "metadata": {},
   "outputs": [
    {
     "data": {
      "text/html": [
       "\n",
       "<style>\n",
       "    /* Turns off some styling */\n",
       "    progress {\n",
       "        /* gets rid of default border in Firefox and Opera. */\n",
       "        border: none;\n",
       "        /* Needs to be in here for Safari polyfill so background images work as expected. */\n",
       "        background-size: auto;\n",
       "    }\n",
       "    progress:not([value]), progress:not([value])::-webkit-progress-bar {\n",
       "        background: repeating-linear-gradient(45deg, #7e7e7e, #7e7e7e 10px, #5c5c5c 10px, #5c5c5c 20px);\n",
       "    }\n",
       "    .progress-bar-interrupted, .progress-bar-interrupted::-webkit-progress-bar {\n",
       "        background: #F44336;\n",
       "    }\n",
       "</style>\n"
      ],
      "text/plain": [
       "<IPython.core.display.HTML object>"
      ]
     },
     "metadata": {},
     "output_type": "display_data"
    },
    {
     "data": {
      "text/html": [],
      "text/plain": [
       "<IPython.core.display.HTML object>"
      ]
     },
     "metadata": {},
     "output_type": "display_data"
    },
    {
     "data": {
      "text/plain": [
       "'the worst Hollywood movie ever . a subtle script concerning an corporation based on Foxtel as a means to gain money . \\n\\n This film would sadly volunteer for the record and is not just worth a look , as in Trainspotting . \\n\\n Still it is'"
      ]
     },
     "execution_count": 48,
     "metadata": {},
     "output_type": "execute_result"
    }
   ],
   "source": [
    "learn.predict(\"the worst\", n_words=50)"
   ]
  },
  {
   "cell_type": "code",
   "execution_count": 49,
   "metadata": {},
   "outputs": [
    {
     "data": {
      "text/html": [
       "\n",
       "<style>\n",
       "    /* Turns off some styling */\n",
       "    progress {\n",
       "        /* gets rid of default border in Firefox and Opera. */\n",
       "        border: none;\n",
       "        /* Needs to be in here for Safari polyfill so background images work as expected. */\n",
       "        background-size: auto;\n",
       "    }\n",
       "    progress:not([value]), progress:not([value])::-webkit-progress-bar {\n",
       "        background: repeating-linear-gradient(45deg, #7e7e7e, #7e7e7e 10px, #5c5c5c 10px, #5c5c5c 20px);\n",
       "    }\n",
       "    .progress-bar-interrupted, .progress-bar-interrupted::-webkit-progress-bar {\n",
       "        background: #F44336;\n",
       "    }\n",
       "</style>\n"
      ],
      "text/plain": [
       "<IPython.core.display.HTML object>"
      ]
     },
     "metadata": {},
     "output_type": "display_data"
    },
    {
     "data": {
      "text/html": [],
      "text/plain": [
       "<IPython.core.display.HTML object>"
      ]
     },
     "metadata": {},
     "output_type": "display_data"
    },
    {
     "data": {
      "text/plain": [
       "'the best TV movie ever made for TV . This film is either done or produced by anyone who does already know it . The endless critics of Alfred Hitchcock in a leading role have no letting seen anyone else . The only truth'"
      ]
     },
     "execution_count": 49,
     "metadata": {},
     "output_type": "execute_result"
    }
   ],
   "source": [
    "learn.predict(\"the best\", n_words=50)"
   ]
  },
  {
   "cell_type": "code",
   "execution_count": 50,
   "metadata": {},
   "outputs": [
    {
     "data": {
      "text/html": [
       "\n",
       "<style>\n",
       "    /* Turns off some styling */\n",
       "    progress {\n",
       "        /* gets rid of default border in Firefox and Opera. */\n",
       "        border: none;\n",
       "        /* Needs to be in here for Safari polyfill so background images work as expected. */\n",
       "        background-size: auto;\n",
       "    }\n",
       "    progress:not([value]), progress:not([value])::-webkit-progress-bar {\n",
       "        background: repeating-linear-gradient(45deg, #7e7e7e, #7e7e7e 10px, #5c5c5c 10px, #5c5c5c 20px);\n",
       "    }\n",
       "    .progress-bar-interrupted, .progress-bar-interrupted::-webkit-progress-bar {\n",
       "        background: #F44336;\n",
       "    }\n",
       "</style>\n"
      ],
      "text/plain": [
       "<IPython.core.display.HTML object>"
      ]
     },
     "metadata": {},
     "output_type": "display_data"
    },
    {
     "data": {
      "text/html": [],
      "text/plain": [
       "<IPython.core.display.HTML object>"
      ]
     },
     "metadata": {},
     "output_type": "display_data"
    },
    {
     "data": {
      "text/plain": [
       "\"In this movie , i was expecting a good movie . The movie was a disappointment , and i ca n't believe it was a total waste of time . It was a terrible waste of time . Every episode of this show was OK\""
      ]
     },
     "execution_count": 50,
     "metadata": {},
     "output_type": "execute_result"
    }
   ],
   "source": [
    "learn.predict(\"\", n_words=50, temperature=0.7)"
   ]
  },
  {
   "cell_type": "markdown",
   "metadata": {},
   "source": [
    "Damn, looks like our model is saying things about movies!"
   ]
  },
  {
   "cell_type": "code",
   "execution_count": null,
   "metadata": {},
   "outputs": [],
   "source": [
    "learn.save('1epoch') "
   ]
  },
  {
   "cell_type": "code",
   "execution_count": 46,
   "metadata": {},
   "outputs": [],
   "source": [
    "learn = learn.load('1epoch') "
   ]
  },
  {
   "cell_type": "code",
   "execution_count": null,
   "metadata": {},
   "outputs": [],
   "source": [
    "learn.unfreeze()"
   ]
  },
  {
   "cell_type": "code",
   "execution_count": null,
   "metadata": {},
   "outputs": [],
   "source": [
    "for param in learn.model.parameters():\n",
    "    print(param.requires_grad)"
   ]
  },
  {
   "cell_type": "code",
   "execution_count": null,
   "metadata": {},
   "outputs": [],
   "source": [
    "learn.fit_one_cycle(10,2e-3)"
   ]
  },
  {
   "cell_type": "code",
   "execution_count": null,
   "metadata": {},
   "outputs": [],
   "source": []
  },
  {
   "cell_type": "code",
   "execution_count": null,
   "metadata": {},
   "outputs": [],
   "source": [
    "learn.predict(\"\", n_words=200, temperature=0.7)"
   ]
  },
  {
   "cell_type": "code",
   "execution_count": null,
   "metadata": {},
   "outputs": [],
   "source": [
    "learn.save('unfreeze')"
   ]
  },
  {
   "cell_type": "code",
   "execution_count": 51,
   "metadata": {},
   "outputs": [],
   "source": [
    "learn = learn.load('unfreeze')"
   ]
  },
  {
   "cell_type": "code",
   "execution_count": 52,
   "metadata": {},
   "outputs": [
    {
     "data": {
      "text/html": [
       "\n",
       "<style>\n",
       "    /* Turns off some styling */\n",
       "    progress {\n",
       "        /* gets rid of default border in Firefox and Opera. */\n",
       "        border: none;\n",
       "        /* Needs to be in here for Safari polyfill so background images work as expected. */\n",
       "        background-size: auto;\n",
       "    }\n",
       "    progress:not([value]), progress:not([value])::-webkit-progress-bar {\n",
       "        background: repeating-linear-gradient(45deg, #7e7e7e, #7e7e7e 10px, #5c5c5c 10px, #5c5c5c 20px);\n",
       "    }\n",
       "    .progress-bar-interrupted, .progress-bar-interrupted::-webkit-progress-bar {\n",
       "        background: #F44336;\n",
       "    }\n",
       "</style>\n"
      ],
      "text/plain": [
       "<IPython.core.display.HTML object>"
      ]
     },
     "metadata": {},
     "output_type": "display_data"
    },
    {
     "data": {
      "text/html": [],
      "text/plain": [
       "<IPython.core.display.HTML object>"
      ]
     },
     "metadata": {},
     "output_type": "display_data"
    },
    {
     "data": {
      "text/plain": [
       "'a huge fan of The Great Outdoors , i was expecting a movie that i could watch again and again , but i was disappointed . The movie starts off with a delightful surprise , and it is very well - done ! The characters are very funny , the situations are hilarious and the film is almost as funny as the original Grease . The acting was very good , especially John Travolta as Abbot Creed , and the music was excellent . The film was really'"
      ]
     },
     "execution_count": 52,
     "metadata": {},
     "output_type": "execute_result"
    }
   ],
   "source": [
    "learn.predict(\"\", n_words=100, temperature=0.7)"
   ]
  },
  {
   "cell_type": "code",
   "execution_count": null,
   "metadata": {},
   "outputs": [],
   "source": []
  }
 ],
 "metadata": {
  "accelerator": "GPU",
  "colab": {
   "collapsed_sections": [],
   "name": "",
   "provenance": [
    {
     "file_id": "https://github.com/Mchristos/fastbook/blob/my-work/10_nlp_chris.ipynb",
     "timestamp": 1661947471744
    }
   ],
   "version": ""
  },
  "environment": {
   "kernel": "python3",
   "name": "common-cu110.m95",
   "type": "gcloud",
   "uri": "gcr.io/deeplearning-platform-release/base-cu110:m95"
  },
  "gpuClass": "standard",
  "kernelspec": {
   "display_name": "Python 3",
   "language": "python",
   "name": "python3"
  },
  "language_info": {
   "codemirror_mode": {
    "name": "ipython",
    "version": 3
   },
   "file_extension": ".py",
   "mimetype": "text/x-python",
   "name": "python",
   "nbconvert_exporter": "python",
   "pygments_lexer": "ipython3",
   "version": "3.7.12"
  },
  "vscode": {
   "interpreter": {
    "hash": "f9f85f796d01129d0dd105a088854619f454435301f6ffec2fea96ecbd9be4ac"
   }
  }
 },
 "nbformat": 4,
 "nbformat_minor": 4
}
