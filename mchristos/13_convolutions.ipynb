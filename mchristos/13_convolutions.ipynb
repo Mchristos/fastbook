{
 "cells": [
  {
   "cell_type": "code",
   "execution_count": 1,
   "id": "b3107e3c-f91b-47e4-9681-f16ae7828a68",
   "metadata": {},
   "outputs": [],
   "source": [
    "from fastai.vision.all import *"
   ]
  },
  {
   "cell_type": "code",
   "execution_count": 2,
   "id": "4ae021ac-aa4e-4ea5-b22b-5b011f26e112",
   "metadata": {},
   "outputs": [
    {
     "data": {
      "text/plain": [
       "tensor([[-1., -1., -1.],\n",
       "        [ 0.,  0.,  0.],\n",
       "        [ 1.,  1.,  1.]])"
      ]
     },
     "execution_count": 2,
     "metadata": {},
     "output_type": "execute_result"
    }
   ],
   "source": [
    "top_edge = tensor([\n",
    "    [-1,-1,-1],\n",
    "    [ 0, 0, 0],\n",
    "    [ 1, 1, 1]\n",
    "]).float()\n",
    "top_edge"
   ]
  },
  {
   "cell_type": "code",
   "execution_count": 3,
   "id": "6103c02a-4b19-4189-af97-57ac44c8a15e",
   "metadata": {},
   "outputs": [],
   "source": [
    "path = untar_data(URLs.MNIST_SAMPLE)"
   ]
  },
  {
   "cell_type": "code",
   "execution_count": 4,
   "id": "f9f55be1-0096-49d3-ae91-8cbcc50b1d8c",
   "metadata": {},
   "outputs": [
    {
     "data": {
      "text/plain": [
       "(#3) [Path('/home/jupyter/.fastai/data/mnist_sample/train'),Path('/home/jupyter/.fastai/data/mnist_sample/labels.csv'),Path('/home/jupyter/.fastai/data/mnist_sample/valid')]"
      ]
     },
     "execution_count": 4,
     "metadata": {},
     "output_type": "execute_result"
    }
   ],
   "source": [
    "path.ls()"
   ]
  },
  {
   "cell_type": "code",
   "execution_count": 5,
   "id": "70c8bfa4-74e7-4717-80d0-9e868f2e2358",
   "metadata": {},
   "outputs": [
    {
     "data": {
      "image/png": "[encoded data removed]",
      "text/plain": [
       "<Figure size 72x72 with 1 Axes>"
      ]
     },
     "metadata": {
      "needs_background": "light"
     },
     "output_type": "display_data"
    }
   ],
   "source": [
    "im3 = Image.open(path/'train'/'3'/'12.png'); \n",
    "show_image(im3);"
   ]
  },
  {
   "cell_type": "code",
   "execution_count": 6,
   "id": "216cee61-1e4f-4308-bf55-3f4e52da3168",
   "metadata": {},
   "outputs": [
    {
     "data": {
      "text/plain": [
       "tensor([[0, 0, 0],\n",
       "        [0, 0, 0],\n",
       "        [0, 0, 0]], dtype=torch.uint8)"
      ]
     },
     "execution_count": 6,
     "metadata": {},
     "output_type": "execute_result"
    }
   ],
   "source": [
    "im3_t = tensor(im3)\n",
    "im3_t[0:3,0:3]"
   ]
  },
  {
   "cell_type": "code",
   "execution_count": 7,
   "id": "9c59f0f1-1a23-42ba-874f-0d8f92373e59",
   "metadata": {},
   "outputs": [
    {
     "data": {
      "text/plain": [
       "tensor([[-0., -0., -0.],\n",
       "        [0., 0., 0.],\n",
       "        [0., 0., 0.]])"
      ]
     },
     "execution_count": 7,
     "metadata": {},
     "output_type": "execute_result"
    }
   ],
   "source": [
    "im3_t[0:3,0:3] * top_edge"
   ]
  },
  {
   "cell_type": "code",
   "execution_count": 8,
   "id": "8b7e2cc6-2cda-422a-9194-e9c33e87d88e",
   "metadata": {},
   "outputs": [
    {
     "data": {
      "text/plain": [
       "tensor(0.)"
      ]
     },
     "execution_count": 8,
     "metadata": {},
     "output_type": "execute_result"
    }
   ],
   "source": [
    "(im3_t[0:3,0:3] * top_edge).sum()"
   ]
  },
  {
   "cell_type": "code",
   "execution_count": 9,
   "id": "6fe634bd-5b4d-4e4e-912a-e01883bfb53d",
   "metadata": {},
   "outputs": [
    {
     "data": {
      "text/html": [
       "<style type=\"text/css\">\n",
       "#T_10eca_row0_col0, #T_10eca_row0_col1, #T_10eca_row0_col2, #T_10eca_row0_col3, #T_10eca_row0_col4, #T_10eca_row0_col5, #T_10eca_row0_col6, #T_10eca_row0_col7, #T_10eca_row0_col8, #T_10eca_row0_col9, #T_10eca_row0_col10, #T_10eca_row0_col11, #T_10eca_row0_col12, #T_10eca_row0_col13, #T_10eca_row0_col14, #T_10eca_row0_col15, #T_10eca_row0_col16, #T_10eca_row0_col17, #T_10eca_row0_col18, #T_10eca_row0_col19, #T_10eca_row1_col0, #T_10eca_row1_col1, #T_10eca_row1_col2, #T_10eca_row1_col3, #T_10eca_row1_col4, #T_10eca_row1_col5, #T_10eca_row1_col6, #T_10eca_row1_col7, #T_10eca_row1_col8, #T_10eca_row1_col9, #T_10eca_row1_col10, #T_10eca_row1_col11, #T_10eca_row1_col12, #T_10eca_row1_col13, #T_10eca_row1_col14, #T_10eca_row1_col15, #T_10eca_row1_col16, #T_10eca_row1_col17, #T_10eca_row1_col18, #T_10eca_row1_col19, #T_10eca_row2_col0, #T_10eca_row2_col1, #T_10eca_row2_col2, #T_10eca_row2_col3, #T_10eca_row2_col4, #T_10eca_row2_col5, #T_10eca_row2_col6, #T_10eca_row2_col7, #T_10eca_row2_col8, #T_10eca_row2_col9, #T_10eca_row2_col10, #T_10eca_row2_col11, #T_10eca_row2_col12, #T_10eca_row2_col13, #T_10eca_row2_col14, #T_10eca_row2_col15, #T_10eca_row2_col16, #T_10eca_row2_col17, #T_10eca_row2_col18, #T_10eca_row2_col19, #T_10eca_row3_col0, #T_10eca_row3_col1, #T_10eca_row3_col2, #T_10eca_row3_col3, #T_10eca_row3_col4, #T_10eca_row3_col5, #T_10eca_row3_col6, #T_10eca_row3_col7, #T_10eca_row3_col8, #T_10eca_row3_col9, #T_10eca_row3_col10, #T_10eca_row3_col11, #T_10eca_row3_col12, #T_10eca_row3_col13, #T_10eca_row3_col14, #T_10eca_row3_col15, #T_10eca_row3_col16, #T_10eca_row3_col17, #T_10eca_row3_col18, #T_10eca_row3_col19, #T_10eca_row4_col0, #T_10eca_row4_col1, #T_10eca_row4_col2, #T_10eca_row4_col3, #T_10eca_row4_col4, #T_10eca_row4_col5, #T_10eca_row4_col6, #T_10eca_row4_col7, #T_10eca_row4_col8, #T_10eca_row4_col9, #T_10eca_row4_col10, #T_10eca_row4_col11, #T_10eca_row4_col12, #T_10eca_row4_col13, #T_10eca_row4_col14, #T_10eca_row4_col15, #T_10eca_row4_col16, #T_10eca_row4_col17, #T_10eca_row4_col18, #T_10eca_row4_col19, #T_10eca_row5_col0, #T_10eca_row5_col1, #T_10eca_row5_col2, #T_10eca_row5_col16, #T_10eca_row5_col17, #T_10eca_row5_col18, #T_10eca_row5_col19, #T_10eca_row6_col0, #T_10eca_row6_col1, #T_10eca_row6_col2, #T_10eca_row6_col19, #T_10eca_row7_col0, #T_10eca_row7_col1, #T_10eca_row7_col2, #T_10eca_row7_col19, #T_10eca_row8_col0, #T_10eca_row8_col1, #T_10eca_row8_col2, #T_10eca_row8_col8, #T_10eca_row8_col9, #T_10eca_row8_col10, #T_10eca_row8_col11, #T_10eca_row8_col12, #T_10eca_row8_col13, #T_10eca_row8_col19, #T_10eca_row9_col0, #T_10eca_row9_col1, #T_10eca_row9_col2, #T_10eca_row9_col3, #T_10eca_row9_col4, #T_10eca_row9_col5, #T_10eca_row9_col6, #T_10eca_row9_col7, #T_10eca_row9_col8, #T_10eca_row9_col9, #T_10eca_row9_col10, #T_10eca_row9_col11, #T_10eca_row9_col12, #T_10eca_row9_col13, #T_10eca_row9_col19 {\n",
       "  background-color: #ffffff;\n",
       "  color: #000000;\n",
       "}\n",
       "#T_10eca_row5_col3, #T_10eca_row8_col14 {\n",
       "  background-color: #f9f9f9;\n",
       "  color: #000000;\n",
       "}\n",
       "#T_10eca_row5_col4 {\n",
       "  background-color: #b9b9b9;\n",
       "  color: #000000;\n",
       "}\n",
       "#T_10eca_row5_col5 {\n",
       "  background-color: #c1c1c1;\n",
       "  color: #000000;\n",
       "}\n",
       "#T_10eca_row5_col6 {\n",
       "  background-color: #858585;\n",
       "  color: #f1f1f1;\n",
       "}\n",
       "#T_10eca_row5_col7, #T_10eca_row5_col10, #T_10eca_row5_col11, #T_10eca_row5_col12, #T_10eca_row5_col13 {\n",
       "  background-color: #777777;\n",
       "  color: #f1f1f1;\n",
       "}\n",
       "#T_10eca_row5_col8 {\n",
       "  background-color: #090909;\n",
       "  color: #f1f1f1;\n",
       "}\n",
       "#T_10eca_row5_col9 {\n",
       "  background-color: #5b5b5b;\n",
       "  color: #f1f1f1;\n",
       "}\n",
       "#T_10eca_row5_col14 {\n",
       "  background-color: #919191;\n",
       "  color: #f1f1f1;\n",
       "}\n",
       "#T_10eca_row5_col15 {\n",
       "  background-color: #e1e1e1;\n",
       "  color: #000000;\n",
       "}\n",
       "#T_10eca_row6_col3 {\n",
       "  background-color: #727272;\n",
       "  color: #f1f1f1;\n",
       "}\n",
       "#T_10eca_row6_col4, #T_10eca_row6_col5, #T_10eca_row6_col6, #T_10eca_row6_col7, #T_10eca_row6_col8, #T_10eca_row6_col9, #T_10eca_row6_col10, #T_10eca_row6_col11, #T_10eca_row6_col12, #T_10eca_row6_col13, #T_10eca_row6_col14, #T_10eca_row7_col3, #T_10eca_row7_col4, #T_10eca_row7_col5, #T_10eca_row7_col6, #T_10eca_row7_col15, #T_10eca_row7_col16, #T_10eca_row7_col17, #T_10eca_row8_col16, #T_10eca_row8_col17, #T_10eca_row8_col18, #T_10eca_row9_col15, #T_10eca_row9_col16 {\n",
       "  background-color: #000000;\n",
       "  color: #f1f1f1;\n",
       "}\n",
       "#T_10eca_row6_col15 {\n",
       "  background-color: #020202;\n",
       "  color: #f1f1f1;\n",
       "}\n",
       "#T_10eca_row6_col16 {\n",
       "  background-color: #363636;\n",
       "  color: #f1f1f1;\n",
       "}\n",
       "#T_10eca_row6_col17 {\n",
       "  background-color: #9d9d9d;\n",
       "  color: #f1f1f1;\n",
       "}\n",
       "#T_10eca_row6_col18 {\n",
       "  background-color: #dfdfdf;\n",
       "  color: #000000;\n",
       "}\n",
       "#T_10eca_row7_col7 {\n",
       "  background-color: #161616;\n",
       "  color: #f1f1f1;\n",
       "}\n",
       "#T_10eca_row7_col8, #T_10eca_row7_col9, #T_10eca_row7_col10, #T_10eca_row7_col11, #T_10eca_row7_col13 {\n",
       "  background-color: #535353;\n",
       "  color: #f1f1f1;\n",
       "}\n",
       "#T_10eca_row7_col12 {\n",
       "  background-color: #7c7c7c;\n",
       "  color: #f1f1f1;\n",
       "}\n",
       "#T_10eca_row7_col14 {\n",
       "  background-color: #3d3d3d;\n",
       "  color: #f1f1f1;\n",
       "}\n",
       "#T_10eca_row7_col18 {\n",
       "  background-color: #999999;\n",
       "  color: #f1f1f1;\n",
       "}\n",
       "#T_10eca_row8_col3 {\n",
       "  background-color: #eaeaea;\n",
       "  color: #000000;\n",
       "}\n",
       "#T_10eca_row8_col4 {\n",
       "  background-color: #d0d0d0;\n",
       "  color: #000000;\n",
       "}\n",
       "#T_10eca_row8_col5, #T_10eca_row8_col6 {\n",
       "  background-color: #eeeeee;\n",
       "  color: #000000;\n",
       "}\n",
       "#T_10eca_row8_col7 {\n",
       "  background-color: #f3f3f3;\n",
       "  color: #000000;\n",
       "}\n",
       "#T_10eca_row8_col15 {\n",
       "  background-color: #232323;\n",
       "  color: #f1f1f1;\n",
       "}\n",
       "#T_10eca_row9_col14 {\n",
       "  background-color: #c2c2c2;\n",
       "  color: #000000;\n",
       "}\n",
       "#T_10eca_row9_col17 {\n",
       "  background-color: #080808;\n",
       "  color: #f1f1f1;\n",
       "}\n",
       "#T_10eca_row9_col18 {\n",
       "  background-color: #c4c4c4;\n",
       "  color: #000000;\n",
       "}\n",
       "</style>\n",
       "<table id=\"T_10eca_\">\n",
       "  <thead>\n",
       "    <tr>\n",
       "      <th class=\"blank level0\" >&nbsp;</th>\n",
       "      <th class=\"col_heading level0 col0\" >0</th>\n",
       "      <th class=\"col_heading level0 col1\" >1</th>\n",
       "      <th class=\"col_heading level0 col2\" >2</th>\n",
       "      <th class=\"col_heading level0 col3\" >3</th>\n",
       "      <th class=\"col_heading level0 col4\" >4</th>\n",
       "      <th class=\"col_heading level0 col5\" >5</th>\n",
       "      <th class=\"col_heading level0 col6\" >6</th>\n",
       "      <th class=\"col_heading level0 col7\" >7</th>\n",
       "      <th class=\"col_heading level0 col8\" >8</th>\n",
       "      <th class=\"col_heading level0 col9\" >9</th>\n",
       "      <th class=\"col_heading level0 col10\" >10</th>\n",
       "      <th class=\"col_heading level0 col11\" >11</th>\n",
       "      <th class=\"col_heading level0 col12\" >12</th>\n",
       "      <th class=\"col_heading level0 col13\" >13</th>\n",
       "      <th class=\"col_heading level0 col14\" >14</th>\n",
       "      <th class=\"col_heading level0 col15\" >15</th>\n",
       "      <th class=\"col_heading level0 col16\" >16</th>\n",
       "      <th class=\"col_heading level0 col17\" >17</th>\n",
       "      <th class=\"col_heading level0 col18\" >18</th>\n",
       "      <th class=\"col_heading level0 col19\" >19</th>\n",
       "    </tr>\n",
       "  </thead>\n",
       "  <tbody>\n",
       "    <tr>\n",
       "      <th id=\"T_10eca_level0_row0\" class=\"row_heading level0 row0\" >0</th>\n",
       "      <td id=\"T_10eca_row0_col0\" class=\"data row0 col0\" >0</td>\n",
       "      <td id=\"T_10eca_row0_col1\" class=\"data row0 col1\" >0</td>\n",
       "      <td id=\"T_10eca_row0_col2\" class=\"data row0 col2\" >0</td>\n",
       "      <td id=\"T_10eca_row0_col3\" class=\"data row0 col3\" >0</td>\n",
       "      <td id=\"T_10eca_row0_col4\" class=\"data row0 col4\" >0</td>\n",
       "      <td id=\"T_10eca_row0_col5\" class=\"data row0 col5\" >0</td>\n",
       "      <td id=\"T_10eca_row0_col6\" class=\"data row0 col6\" >0</td>\n",
       "      <td id=\"T_10eca_row0_col7\" class=\"data row0 col7\" >0</td>\n",
       "      <td id=\"T_10eca_row0_col8\" class=\"data row0 col8\" >0</td>\n",
       "      <td id=\"T_10eca_row0_col9\" class=\"data row0 col9\" >0</td>\n",
       "      <td id=\"T_10eca_row0_col10\" class=\"data row0 col10\" >0</td>\n",
       "      <td id=\"T_10eca_row0_col11\" class=\"data row0 col11\" >0</td>\n",
       "      <td id=\"T_10eca_row0_col12\" class=\"data row0 col12\" >0</td>\n",
       "      <td id=\"T_10eca_row0_col13\" class=\"data row0 col13\" >0</td>\n",
       "      <td id=\"T_10eca_row0_col14\" class=\"data row0 col14\" >0</td>\n",
       "      <td id=\"T_10eca_row0_col15\" class=\"data row0 col15\" >0</td>\n",
       "      <td id=\"T_10eca_row0_col16\" class=\"data row0 col16\" >0</td>\n",
       "      <td id=\"T_10eca_row0_col17\" class=\"data row0 col17\" >0</td>\n",
       "      <td id=\"T_10eca_row0_col18\" class=\"data row0 col18\" >0</td>\n",
       "      <td id=\"T_10eca_row0_col19\" class=\"data row0 col19\" >0</td>\n",
       "    </tr>\n",
       "    <tr>\n",
       "      <th id=\"T_10eca_level0_row1\" class=\"row_heading level0 row1\" >1</th>\n",
       "      <td id=\"T_10eca_row1_col0\" class=\"data row1 col0\" >0</td>\n",
       "      <td id=\"T_10eca_row1_col1\" class=\"data row1 col1\" >0</td>\n",
       "      <td id=\"T_10eca_row1_col2\" class=\"data row1 col2\" >0</td>\n",
       "      <td id=\"T_10eca_row1_col3\" class=\"data row1 col3\" >0</td>\n",
       "      <td id=\"T_10eca_row1_col4\" class=\"data row1 col4\" >0</td>\n",
       "      <td id=\"T_10eca_row1_col5\" class=\"data row1 col5\" >0</td>\n",
       "      <td id=\"T_10eca_row1_col6\" class=\"data row1 col6\" >0</td>\n",
       "      <td id=\"T_10eca_row1_col7\" class=\"data row1 col7\" >0</td>\n",
       "      <td id=\"T_10eca_row1_col8\" class=\"data row1 col8\" >0</td>\n",
       "      <td id=\"T_10eca_row1_col9\" class=\"data row1 col9\" >0</td>\n",
       "      <td id=\"T_10eca_row1_col10\" class=\"data row1 col10\" >0</td>\n",
       "      <td id=\"T_10eca_row1_col11\" class=\"data row1 col11\" >0</td>\n",
       "      <td id=\"T_10eca_row1_col12\" class=\"data row1 col12\" >0</td>\n",
       "      <td id=\"T_10eca_row1_col13\" class=\"data row1 col13\" >0</td>\n",
       "      <td id=\"T_10eca_row1_col14\" class=\"data row1 col14\" >0</td>\n",
       "      <td id=\"T_10eca_row1_col15\" class=\"data row1 col15\" >0</td>\n",
       "      <td id=\"T_10eca_row1_col16\" class=\"data row1 col16\" >0</td>\n",
       "      <td id=\"T_10eca_row1_col17\" class=\"data row1 col17\" >0</td>\n",
       "      <td id=\"T_10eca_row1_col18\" class=\"data row1 col18\" >0</td>\n",
       "      <td id=\"T_10eca_row1_col19\" class=\"data row1 col19\" >0</td>\n",
       "    </tr>\n",
       "    <tr>\n",
       "      <th id=\"T_10eca_level0_row2\" class=\"row_heading level0 row2\" >2</th>\n",
       "      <td id=\"T_10eca_row2_col0\" class=\"data row2 col0\" >0</td>\n",
       "      <td id=\"T_10eca_row2_col1\" class=\"data row2 col1\" >0</td>\n",
       "      <td id=\"T_10eca_row2_col2\" class=\"data row2 col2\" >0</td>\n",
       "      <td id=\"T_10eca_row2_col3\" class=\"data row2 col3\" >0</td>\n",
       "      <td id=\"T_10eca_row2_col4\" class=\"data row2 col4\" >0</td>\n",
       "      <td id=\"T_10eca_row2_col5\" class=\"data row2 col5\" >0</td>\n",
       "      <td id=\"T_10eca_row2_col6\" class=\"data row2 col6\" >0</td>\n",
       "      <td id=\"T_10eca_row2_col7\" class=\"data row2 col7\" >0</td>\n",
       "      <td id=\"T_10eca_row2_col8\" class=\"data row2 col8\" >0</td>\n",
       "      <td id=\"T_10eca_row2_col9\" class=\"data row2 col9\" >0</td>\n",
       "      <td id=\"T_10eca_row2_col10\" class=\"data row2 col10\" >0</td>\n",
       "      <td id=\"T_10eca_row2_col11\" class=\"data row2 col11\" >0</td>\n",
       "      <td id=\"T_10eca_row2_col12\" class=\"data row2 col12\" >0</td>\n",
       "      <td id=\"T_10eca_row2_col13\" class=\"data row2 col13\" >0</td>\n",
       "      <td id=\"T_10eca_row2_col14\" class=\"data row2 col14\" >0</td>\n",
       "      <td id=\"T_10eca_row2_col15\" class=\"data row2 col15\" >0</td>\n",
       "      <td id=\"T_10eca_row2_col16\" class=\"data row2 col16\" >0</td>\n",
       "      <td id=\"T_10eca_row2_col17\" class=\"data row2 col17\" >0</td>\n",
       "      <td id=\"T_10eca_row2_col18\" class=\"data row2 col18\" >0</td>\n",
       "      <td id=\"T_10eca_row2_col19\" class=\"data row2 col19\" >0</td>\n",
       "    </tr>\n",
       "    <tr>\n",
       "      <th id=\"T_10eca_level0_row3\" class=\"row_heading level0 row3\" >3</th>\n",
       "      <td id=\"T_10eca_row3_col0\" class=\"data row3 col0\" >0</td>\n",
       "      <td id=\"T_10eca_row3_col1\" class=\"data row3 col1\" >0</td>\n",
       "      <td id=\"T_10eca_row3_col2\" class=\"data row3 col2\" >0</td>\n",
       "      <td id=\"T_10eca_row3_col3\" class=\"data row3 col3\" >0</td>\n",
       "      <td id=\"T_10eca_row3_col4\" class=\"data row3 col4\" >0</td>\n",
       "      <td id=\"T_10eca_row3_col5\" class=\"data row3 col5\" >0</td>\n",
       "      <td id=\"T_10eca_row3_col6\" class=\"data row3 col6\" >0</td>\n",
       "      <td id=\"T_10eca_row3_col7\" class=\"data row3 col7\" >0</td>\n",
       "      <td id=\"T_10eca_row3_col8\" class=\"data row3 col8\" >0</td>\n",
       "      <td id=\"T_10eca_row3_col9\" class=\"data row3 col9\" >0</td>\n",
       "      <td id=\"T_10eca_row3_col10\" class=\"data row3 col10\" >0</td>\n",
       "      <td id=\"T_10eca_row3_col11\" class=\"data row3 col11\" >0</td>\n",
       "      <td id=\"T_10eca_row3_col12\" class=\"data row3 col12\" >0</td>\n",
       "      <td id=\"T_10eca_row3_col13\" class=\"data row3 col13\" >0</td>\n",
       "      <td id=\"T_10eca_row3_col14\" class=\"data row3 col14\" >0</td>\n",
       "      <td id=\"T_10eca_row3_col15\" class=\"data row3 col15\" >0</td>\n",
       "      <td id=\"T_10eca_row3_col16\" class=\"data row3 col16\" >0</td>\n",
       "      <td id=\"T_10eca_row3_col17\" class=\"data row3 col17\" >0</td>\n",
       "      <td id=\"T_10eca_row3_col18\" class=\"data row3 col18\" >0</td>\n",
       "      <td id=\"T_10eca_row3_col19\" class=\"data row3 col19\" >0</td>\n",
       "    </tr>\n",
       "    <tr>\n",
       "      <th id=\"T_10eca_level0_row4\" class=\"row_heading level0 row4\" >4</th>\n",
       "      <td id=\"T_10eca_row4_col0\" class=\"data row4 col0\" >0</td>\n",
       "      <td id=\"T_10eca_row4_col1\" class=\"data row4 col1\" >0</td>\n",
       "      <td id=\"T_10eca_row4_col2\" class=\"data row4 col2\" >0</td>\n",
       "      <td id=\"T_10eca_row4_col3\" class=\"data row4 col3\" >0</td>\n",
       "      <td id=\"T_10eca_row4_col4\" class=\"data row4 col4\" >0</td>\n",
       "      <td id=\"T_10eca_row4_col5\" class=\"data row4 col5\" >0</td>\n",
       "      <td id=\"T_10eca_row4_col6\" class=\"data row4 col6\" >0</td>\n",
       "      <td id=\"T_10eca_row4_col7\" class=\"data row4 col7\" >0</td>\n",
       "      <td id=\"T_10eca_row4_col8\" class=\"data row4 col8\" >0</td>\n",
       "      <td id=\"T_10eca_row4_col9\" class=\"data row4 col9\" >0</td>\n",
       "      <td id=\"T_10eca_row4_col10\" class=\"data row4 col10\" >0</td>\n",
       "      <td id=\"T_10eca_row4_col11\" class=\"data row4 col11\" >0</td>\n",
       "      <td id=\"T_10eca_row4_col12\" class=\"data row4 col12\" >0</td>\n",
       "      <td id=\"T_10eca_row4_col13\" class=\"data row4 col13\" >0</td>\n",
       "      <td id=\"T_10eca_row4_col14\" class=\"data row4 col14\" >0</td>\n",
       "      <td id=\"T_10eca_row4_col15\" class=\"data row4 col15\" >0</td>\n",
       "      <td id=\"T_10eca_row4_col16\" class=\"data row4 col16\" >0</td>\n",
       "      <td id=\"T_10eca_row4_col17\" class=\"data row4 col17\" >0</td>\n",
       "      <td id=\"T_10eca_row4_col18\" class=\"data row4 col18\" >0</td>\n",
       "      <td id=\"T_10eca_row4_col19\" class=\"data row4 col19\" >0</td>\n",
       "    </tr>\n",
       "    <tr>\n",
       "      <th id=\"T_10eca_level0_row5\" class=\"row_heading level0 row5\" >5</th>\n",
       "      <td id=\"T_10eca_row5_col0\" class=\"data row5 col0\" >0</td>\n",
       "      <td id=\"T_10eca_row5_col1\" class=\"data row5 col1\" >0</td>\n",
       "      <td id=\"T_10eca_row5_col2\" class=\"data row5 col2\" >0</td>\n",
       "      <td id=\"T_10eca_row5_col3\" class=\"data row5 col3\" >12</td>\n",
       "      <td id=\"T_10eca_row5_col4\" class=\"data row5 col4\" >99</td>\n",
       "      <td id=\"T_10eca_row5_col5\" class=\"data row5 col5\" >91</td>\n",
       "      <td id=\"T_10eca_row5_col6\" class=\"data row5 col6\" >142</td>\n",
       "      <td id=\"T_10eca_row5_col7\" class=\"data row5 col7\" >155</td>\n",
       "      <td id=\"T_10eca_row5_col8\" class=\"data row5 col8\" >246</td>\n",
       "      <td id=\"T_10eca_row5_col9\" class=\"data row5 col9\" >182</td>\n",
       "      <td id=\"T_10eca_row5_col10\" class=\"data row5 col10\" >155</td>\n",
       "      <td id=\"T_10eca_row5_col11\" class=\"data row5 col11\" >155</td>\n",
       "      <td id=\"T_10eca_row5_col12\" class=\"data row5 col12\" >155</td>\n",
       "      <td id=\"T_10eca_row5_col13\" class=\"data row5 col13\" >155</td>\n",
       "      <td id=\"T_10eca_row5_col14\" class=\"data row5 col14\" >131</td>\n",
       "      <td id=\"T_10eca_row5_col15\" class=\"data row5 col15\" >52</td>\n",
       "      <td id=\"T_10eca_row5_col16\" class=\"data row5 col16\" >0</td>\n",
       "      <td id=\"T_10eca_row5_col17\" class=\"data row5 col17\" >0</td>\n",
       "      <td id=\"T_10eca_row5_col18\" class=\"data row5 col18\" >0</td>\n",
       "      <td id=\"T_10eca_row5_col19\" class=\"data row5 col19\" >0</td>\n",
       "    </tr>\n",
       "    <tr>\n",
       "      <th id=\"T_10eca_level0_row6\" class=\"row_heading level0 row6\" >6</th>\n",
       "      <td id=\"T_10eca_row6_col0\" class=\"data row6 col0\" >0</td>\n",
       "      <td id=\"T_10eca_row6_col1\" class=\"data row6 col1\" >0</td>\n",
       "      <td id=\"T_10eca_row6_col2\" class=\"data row6 col2\" >0</td>\n",
       "      <td id=\"T_10eca_row6_col3\" class=\"data row6 col3\" >138</td>\n",
       "      <td id=\"T_10eca_row6_col4\" class=\"data row6 col4\" >254</td>\n",
       "      <td id=\"T_10eca_row6_col5\" class=\"data row6 col5\" >254</td>\n",
       "      <td id=\"T_10eca_row6_col6\" class=\"data row6 col6\" >254</td>\n",
       "      <td id=\"T_10eca_row6_col7\" class=\"data row6 col7\" >254</td>\n",
       "      <td id=\"T_10eca_row6_col8\" class=\"data row6 col8\" >254</td>\n",
       "      <td id=\"T_10eca_row6_col9\" class=\"data row6 col9\" >254</td>\n",
       "      <td id=\"T_10eca_row6_col10\" class=\"data row6 col10\" >254</td>\n",
       "      <td id=\"T_10eca_row6_col11\" class=\"data row6 col11\" >254</td>\n",
       "      <td id=\"T_10eca_row6_col12\" class=\"data row6 col12\" >254</td>\n",
       "      <td id=\"T_10eca_row6_col13\" class=\"data row6 col13\" >254</td>\n",
       "      <td id=\"T_10eca_row6_col14\" class=\"data row6 col14\" >254</td>\n",
       "      <td id=\"T_10eca_row6_col15\" class=\"data row6 col15\" >252</td>\n",
       "      <td id=\"T_10eca_row6_col16\" class=\"data row6 col16\" >210</td>\n",
       "      <td id=\"T_10eca_row6_col17\" class=\"data row6 col17\" >122</td>\n",
       "      <td id=\"T_10eca_row6_col18\" class=\"data row6 col18\" >33</td>\n",
       "      <td id=\"T_10eca_row6_col19\" class=\"data row6 col19\" >0</td>\n",
       "    </tr>\n",
       "    <tr>\n",
       "      <th id=\"T_10eca_level0_row7\" class=\"row_heading level0 row7\" >7</th>\n",
       "      <td id=\"T_10eca_row7_col0\" class=\"data row7 col0\" >0</td>\n",
       "      <td id=\"T_10eca_row7_col1\" class=\"data row7 col1\" >0</td>\n",
       "      <td id=\"T_10eca_row7_col2\" class=\"data row7 col2\" >0</td>\n",
       "      <td id=\"T_10eca_row7_col3\" class=\"data row7 col3\" >220</td>\n",
       "      <td id=\"T_10eca_row7_col4\" class=\"data row7 col4\" >254</td>\n",
       "      <td id=\"T_10eca_row7_col5\" class=\"data row7 col5\" >254</td>\n",
       "      <td id=\"T_10eca_row7_col6\" class=\"data row7 col6\" >254</td>\n",
       "      <td id=\"T_10eca_row7_col7\" class=\"data row7 col7\" >235</td>\n",
       "      <td id=\"T_10eca_row7_col8\" class=\"data row7 col8\" >189</td>\n",
       "      <td id=\"T_10eca_row7_col9\" class=\"data row7 col9\" >189</td>\n",
       "      <td id=\"T_10eca_row7_col10\" class=\"data row7 col10\" >189</td>\n",
       "      <td id=\"T_10eca_row7_col11\" class=\"data row7 col11\" >189</td>\n",
       "      <td id=\"T_10eca_row7_col12\" class=\"data row7 col12\" >150</td>\n",
       "      <td id=\"T_10eca_row7_col13\" class=\"data row7 col13\" >189</td>\n",
       "      <td id=\"T_10eca_row7_col14\" class=\"data row7 col14\" >205</td>\n",
       "      <td id=\"T_10eca_row7_col15\" class=\"data row7 col15\" >254</td>\n",
       "      <td id=\"T_10eca_row7_col16\" class=\"data row7 col16\" >254</td>\n",
       "      <td id=\"T_10eca_row7_col17\" class=\"data row7 col17\" >254</td>\n",
       "      <td id=\"T_10eca_row7_col18\" class=\"data row7 col18\" >75</td>\n",
       "      <td id=\"T_10eca_row7_col19\" class=\"data row7 col19\" >0</td>\n",
       "    </tr>\n",
       "    <tr>\n",
       "      <th id=\"T_10eca_level0_row8\" class=\"row_heading level0 row8\" >8</th>\n",
       "      <td id=\"T_10eca_row8_col0\" class=\"data row8 col0\" >0</td>\n",
       "      <td id=\"T_10eca_row8_col1\" class=\"data row8 col1\" >0</td>\n",
       "      <td id=\"T_10eca_row8_col2\" class=\"data row8 col2\" >0</td>\n",
       "      <td id=\"T_10eca_row8_col3\" class=\"data row8 col3\" >35</td>\n",
       "      <td id=\"T_10eca_row8_col4\" class=\"data row8 col4\" >74</td>\n",
       "      <td id=\"T_10eca_row8_col5\" class=\"data row8 col5\" >35</td>\n",
       "      <td id=\"T_10eca_row8_col6\" class=\"data row8 col6\" >35</td>\n",
       "      <td id=\"T_10eca_row8_col7\" class=\"data row8 col7\" >25</td>\n",
       "      <td id=\"T_10eca_row8_col8\" class=\"data row8 col8\" >0</td>\n",
       "      <td id=\"T_10eca_row8_col9\" class=\"data row8 col9\" >0</td>\n",
       "      <td id=\"T_10eca_row8_col10\" class=\"data row8 col10\" >0</td>\n",
       "      <td id=\"T_10eca_row8_col11\" class=\"data row8 col11\" >0</td>\n",
       "      <td id=\"T_10eca_row8_col12\" class=\"data row8 col12\" >0</td>\n",
       "      <td id=\"T_10eca_row8_col13\" class=\"data row8 col13\" >0</td>\n",
       "      <td id=\"T_10eca_row8_col14\" class=\"data row8 col14\" >13</td>\n",
       "      <td id=\"T_10eca_row8_col15\" class=\"data row8 col15\" >224</td>\n",
       "      <td id=\"T_10eca_row8_col16\" class=\"data row8 col16\" >254</td>\n",
       "      <td id=\"T_10eca_row8_col17\" class=\"data row8 col17\" >254</td>\n",
       "      <td id=\"T_10eca_row8_col18\" class=\"data row8 col18\" >153</td>\n",
       "      <td id=\"T_10eca_row8_col19\" class=\"data row8 col19\" >0</td>\n",
       "    </tr>\n",
       "    <tr>\n",
       "      <th id=\"T_10eca_level0_row9\" class=\"row_heading level0 row9\" >9</th>\n",
       "      <td id=\"T_10eca_row9_col0\" class=\"data row9 col0\" >0</td>\n",
       "      <td id=\"T_10eca_row9_col1\" class=\"data row9 col1\" >0</td>\n",
       "      <td id=\"T_10eca_row9_col2\" class=\"data row9 col2\" >0</td>\n",
       "      <td id=\"T_10eca_row9_col3\" class=\"data row9 col3\" >0</td>\n",
       "      <td id=\"T_10eca_row9_col4\" class=\"data row9 col4\" >0</td>\n",
       "      <td id=\"T_10eca_row9_col5\" class=\"data row9 col5\" >0</td>\n",
       "      <td id=\"T_10eca_row9_col6\" class=\"data row9 col6\" >0</td>\n",
       "      <td id=\"T_10eca_row9_col7\" class=\"data row9 col7\" >0</td>\n",
       "      <td id=\"T_10eca_row9_col8\" class=\"data row9 col8\" >0</td>\n",
       "      <td id=\"T_10eca_row9_col9\" class=\"data row9 col9\" >0</td>\n",
       "      <td id=\"T_10eca_row9_col10\" class=\"data row9 col10\" >0</td>\n",
       "      <td id=\"T_10eca_row9_col11\" class=\"data row9 col11\" >0</td>\n",
       "      <td id=\"T_10eca_row9_col12\" class=\"data row9 col12\" >0</td>\n",
       "      <td id=\"T_10eca_row9_col13\" class=\"data row9 col13\" >0</td>\n",
       "      <td id=\"T_10eca_row9_col14\" class=\"data row9 col14\" >90</td>\n",
       "      <td id=\"T_10eca_row9_col15\" class=\"data row9 col15\" >254</td>\n",
       "      <td id=\"T_10eca_row9_col16\" class=\"data row9 col16\" >254</td>\n",
       "      <td id=\"T_10eca_row9_col17\" class=\"data row9 col17\" >247</td>\n",
       "      <td id=\"T_10eca_row9_col18\" class=\"data row9 col18\" >53</td>\n",
       "      <td id=\"T_10eca_row9_col19\" class=\"data row9 col19\" >0</td>\n",
       "    </tr>\n",
       "  </tbody>\n",
       "</table>\n"
      ],
      "text/plain": [
       "<pandas.io.formats.style.Styler at 0x7fd6426ecc90>"
      ]
     },
     "execution_count": 9,
     "metadata": {},
     "output_type": "execute_result"
    }
   ],
   "source": [
    "df = pd.DataFrame(im3_t[:10,:20])\n",
    "df.style.background_gradient('Greys')"
   ]
  },
  {
   "cell_type": "code",
   "execution_count": 10,
   "id": "4dde3ee5-a1fc-4696-abd9-b0994ecc76c6",
   "metadata": {},
   "outputs": [
    {
     "data": {
      "text/plain": [
       "tensor([[  0,   0,   0],\n",
       "        [142, 155, 246],\n",
       "        [254, 254, 254]], dtype=torch.uint8)"
      ]
     },
     "execution_count": 10,
     "metadata": {},
     "output_type": "execute_result"
    }
   ],
   "source": [
    "im3_t[4:7,6:9]"
   ]
  },
  {
   "cell_type": "code",
   "execution_count": 11,
   "id": "b1813fce-0b7b-4931-81fd-dd288e808a6f",
   "metadata": {},
   "outputs": [
    {
     "data": {
      "text/plain": [
       "tensor(762.)"
      ]
     },
     "execution_count": 11,
     "metadata": {},
     "output_type": "execute_result"
    }
   ],
   "source": [
    "(im3_t[4:7,6:9] * top_edge).sum()"
   ]
  },
  {
   "cell_type": "code",
   "execution_count": 12,
   "id": "dfa9f29f-687c-44eb-af28-1f967dc358d3",
   "metadata": {},
   "outputs": [
    {
     "data": {
      "text/plain": [
       "tensor([[254,  75,   0],\n",
       "        [254, 153,   0],\n",
       "        [247,  53,   0]], dtype=torch.uint8)"
      ]
     },
     "execution_count": 12,
     "metadata": {},
     "output_type": "execute_result"
    }
   ],
   "source": [
    "im3_t[7:10,17:20]"
   ]
  },
  {
   "cell_type": "code",
   "execution_count": 13,
   "id": "50ba66ae-4e61-47de-af76-0e3abd24dd0a",
   "metadata": {},
   "outputs": [
    {
     "data": {
      "text/plain": [
       "tensor(-29.)"
      ]
     },
     "execution_count": 13,
     "metadata": {},
     "output_type": "execute_result"
    }
   ],
   "source": [
    "(im3_t[7:10,17:20] * top_edge).sum()"
   ]
  },
  {
   "cell_type": "markdown",
   "id": "c99b2b10-c6fd-4336-a662-4fe32d859d84",
   "metadata": {},
   "source": [
    "So our kernel is detecting top edges, in the sense that it returns big numbers when the pixel values are low at the top and high at the bottom "
   ]
  },
  {
   "cell_type": "code",
   "execution_count": 14,
   "id": "0fa87bb4-ada5-47d6-ba86-a2c2664b8bfd",
   "metadata": {},
   "outputs": [],
   "source": [
    "def apply_kernel_at(row, col, kernel):\n",
    "    \"\"\"\n",
    "    Apply kernel to to the image at (row, col)\n",
    "    \"\"\"\n",
    "    # I made it more general, using the shape of the kernel \n",
    "    height, width = kernel.shape \n",
    "    return (im3_t[row-1:row + height-1, col-1: col + width-1] * kernel).sum()"
   ]
  },
  {
   "cell_type": "code",
   "execution_count": 15,
   "id": "f6857a47-a937-48cc-aeb4-ec0b4a1d0e12",
   "metadata": {},
   "outputs": [
    {
     "data": {
      "text/plain": [
       "tensor(762.)"
      ]
     },
     "execution_count": 15,
     "metadata": {},
     "output_type": "execute_result"
    }
   ],
   "source": [
    "apply_kernel_at(5,7,top_edge)"
   ]
  },
  {
   "cell_type": "code",
   "execution_count": 16,
   "id": "54d01333-a7cf-4de3-9709-4e2c38c95d75",
   "metadata": {},
   "outputs": [
    {
     "data": {
      "text/plain": [
       "tensor(-103.)"
      ]
     },
     "execution_count": 16,
     "metadata": {},
     "output_type": "execute_result"
    }
   ],
   "source": [
    "apply_kernel_at(7,2,top_edge)"
   ]
  },
  {
   "cell_type": "code",
   "execution_count": 17,
   "id": "aea23937-0550-4245-8f65-3fd56f84c0b6",
   "metadata": {},
   "outputs": [
    {
     "data": {
      "text/plain": [
       "tensor(-613.)"
      ]
     },
     "execution_count": 17,
     "metadata": {},
     "output_type": "execute_result"
    }
   ],
   "source": [
    "# this is a bottom edge, hence returning a large negative number \n",
    "apply_kernel_at(8,8,top_edge)"
   ]
  },
  {
   "cell_type": "markdown",
   "id": "fe892d26-cfcf-485d-8beb-0447f7fdf612",
   "metadata": {},
   "source": [
    "## Mapping a Convolutional Kernel \n",
    "\n",
    "Lets apply our kernel to all possible positions in the grid instead of just one "
   ]
  },
  {
   "cell_type": "code",
   "execution_count": 18,
   "id": "b1145b75-03ce-4db7-84c5-04d387aa118f",
   "metadata": {},
   "outputs": [
    {
     "data": {
      "text/plain": [
       "(28, 28)"
      ]
     },
     "execution_count": 18,
     "metadata": {},
     "output_type": "execute_result"
    }
   ],
   "source": [
    "height, width = im3_t.shape\n",
    "height, width"
   ]
  },
  {
   "cell_type": "code",
   "execution_count": 19,
   "id": "b027cb54-4fc8-4ca4-a8d0-b5c865e43c5c",
   "metadata": {},
   "outputs": [
    {
     "data": {
      "image/png": "[encoded data removed]",
      "text/plain": [
       "<Figure size 72x72 with 1 Axes>"
      ]
     },
     "metadata": {
      "needs_background": "light"
     },
     "output_type": "display_data"
    }
   ],
   "source": [
    "rng = range(1,27)\n",
    "# apply our top_edge kernel to all positions \n",
    "top_edge3 = tensor([[apply_kernel_at(i,j,top_edge) for j in range(1,height-1)] for i in range(1,width-1)])\n",
    "show_image(top_edge3);"
   ]
  },
  {
   "cell_type": "code",
   "execution_count": 20,
   "id": "e95ae113-8e95-4dc3-b6b2-d9156ce64457",
   "metadata": {},
   "outputs": [
    {
     "data": {
      "text/plain": [
       "tensor(-762.)"
      ]
     },
     "execution_count": 20,
     "metadata": {},
     "output_type": "execute_result"
    }
   ],
   "source": [
    "top_edge3.min()"
   ]
  },
  {
   "cell_type": "code",
   "execution_count": 21,
   "id": "b52ff69d-ce90-4dfb-8d57-df14520e3dcd",
   "metadata": {},
   "outputs": [],
   "source": [
    "def apply_kernel(im, kernel):\n",
    "    height, width = im3_t.shape\n",
    "    return tensor([[apply_kernel_at(i,j,kernel) for j in range(1,height-1)] for i in range(1,width-1)])"
   ]
  },
  {
   "cell_type": "code",
   "execution_count": 22,
   "id": "61936e8b-0d93-4c07-ae6f-245c8e66d816",
   "metadata": {},
   "outputs": [
    {
     "data": {
      "image/png": "[encoded data removed]",
      "text/plain": [
       "<Figure size 72x72 with 1 Axes>"
      ]
     },
     "metadata": {
      "needs_background": "light"
     },
     "output_type": "display_data"
    }
   ],
   "source": [
    "show_image(apply_kernel(im3_t, top_edge));"
   ]
  },
  {
   "cell_type": "code",
   "execution_count": 23,
   "id": "0ad5346f-decb-426b-b178-b681e472c474",
   "metadata": {},
   "outputs": [
    {
     "data": {
      "text/plain": [
       "tensor([[-1.,  1.,  0.],\n",
       "        [-1.,  1.,  0.],\n",
       "        [-1.,  1.,  0.]])"
      ]
     },
     "execution_count": 23,
     "metadata": {},
     "output_type": "execute_result"
    }
   ],
   "source": [
    "# odd that we're going -1,1,0 rather than -1,0,1 as with top edges \n",
    "left_edge = tensor([\n",
    "    [-1,1,0],\n",
    "    [-1,1,0],\n",
    "    [-1,1,0]\n",
    "]).float()\n",
    "left_edge\n"
   ]
  },
  {
   "cell_type": "code",
   "execution_count": 24,
   "id": "11f4866c-a2f4-4407-b63b-29d0b8f5d343",
   "metadata": {},
   "outputs": [
    {
     "data": {
      "text/plain": [
       "tensor(393.)"
      ]
     },
     "execution_count": 24,
     "metadata": {},
     "output_type": "execute_result"
    }
   ],
   "source": [
    "apply_kernel_at(7,3,left_edge)"
   ]
  },
  {
   "cell_type": "code",
   "execution_count": 25,
   "id": "24a93972-5176-4b3b-b1b8-9b387ea543a7",
   "metadata": {},
   "outputs": [
    {
     "data": {
      "image/png": "[encoded data removed]",
      "text/plain": [
       "<Figure size 72x72 with 1 Axes>"
      ]
     },
     "metadata": {
      "needs_background": "light"
     },
     "output_type": "display_data"
    }
   ],
   "source": [
    "left_edge3 = apply_kernel(im3_t, left_edge)\n",
    "show_image(left_edge3);"
   ]
  },
  {
   "cell_type": "code",
   "execution_count": 26,
   "id": "aa6c5829-fbd1-450e-bdc7-ce9a613a13ff",
   "metadata": {},
   "outputs": [
    {
     "data": {
      "text/plain": [
       "torch.Size([26, 26])"
      ]
     },
     "execution_count": 26,
     "metadata": {},
     "output_type": "execute_result"
    }
   ],
   "source": [
    "left_edge3.shape"
   ]
  },
  {
   "cell_type": "markdown",
   "id": "a86c7f3d-11c0-4c54-97a4-efd836e6a14d",
   "metadata": {},
   "source": [
    "Note how the size went from 28x28 image to a 26x26 image, since we only get to apply the kernel n - 2 times along a given axis"
   ]
  },
  {
   "cell_type": "markdown",
   "id": "7bb26cec-274e-4622-894c-9cc54fa6f939",
   "metadata": {},
   "source": [
    "## Convolutions in PyTorch "
   ]
  },
  {
   "cell_type": "code",
   "execution_count": 27,
   "id": "ad95b3b1-33c9-45ef-a306-7a9f54fe3c65",
   "metadata": {},
   "outputs": [],
   "source": [
    "from torch.nn.functional import conv2d"
   ]
  },
  {
   "cell_type": "code",
   "execution_count": 29,
   "id": "6d2336e7-95ac-47c0-bb41-15afbdd76cd1",
   "metadata": {},
   "outputs": [
    {
     "data": {
      "text/plain": [
       "True"
      ]
     },
     "execution_count": 29,
     "metadata": {},
     "output_type": "execute_result"
    }
   ],
   "source": [
    "F.conv2d == conv2d"
   ]
  },
  {
   "cell_type": "markdown",
   "id": "b682e2de-97e6-449e-984b-a5e2e1e4ab2e",
   "metadata": {},
   "source": [
    "* pytorch can apply a kernel to multiple images at once \n",
    "* pytorch can apply multiple kernels at once "
   ]
  },
  {
   "cell_type": "code",
   "execution_count": 32,
   "id": "4682be8b-51b1-487e-8942-76b0ea1ea7b8",
   "metadata": {},
   "outputs": [],
   "source": [
    "diag1_edge = tensor([\n",
    "    [0,-1, 1],\n",
    "    [-1,1, 0],\n",
    "    [1, 0, 0]\n",
    "]).float()\n",
    "diag2_edge = tensor([\n",
    "    [1,-1, 0],\n",
    "    [0, 1,-1],\n",
    "    [0, 0, 1]\n",
    "])"
   ]
  },
  {
   "cell_type": "code",
   "execution_count": 52,
   "id": "25f113a2-c1e5-4942-91ed-7d4c2f3b2ab9",
   "metadata": {},
   "outputs": [
    {
     "data": {
      "text/plain": [
       "tensor([[[-1.,  1.,  0.],\n",
       "         [-1.,  1.,  0.],\n",
       "         [-1.,  1.,  0.]],\n",
       "\n",
       "        [[-1., -1., -1.],\n",
       "         [ 0.,  0.,  0.],\n",
       "         [ 1.,  1.,  1.]],\n",
       "\n",
       "        [[ 0., -1.,  1.],\n",
       "         [-1.,  1.,  0.],\n",
       "         [ 1.,  0.,  0.]],\n",
       "\n",
       "        [[ 1., -1.,  0.],\n",
       "         [ 0.,  1., -1.],\n",
       "         [ 0.,  0.,  1.]]])"
      ]
     },
     "execution_count": 52,
     "metadata": {},
     "output_type": "execute_result"
    }
   ],
   "source": [
    "edge_kernels = torch.stack([left_edge, top_edge, diag1_edge, diag2_edge]); edge_kernels"
   ]
  },
  {
   "cell_type": "code",
   "execution_count": 53,
   "id": "fce722ee-458d-4906-a060-6fdcc7f79cc8",
   "metadata": {},
   "outputs": [
    {
     "data": {
      "text/plain": [
       "torch.Size([4, 3, 3])"
      ]
     },
     "execution_count": 53,
     "metadata": {},
     "output_type": "execute_result"
    }
   ],
   "source": [
    "edge_kernels.shape"
   ]
  },
  {
   "cell_type": "code",
   "execution_count": 54,
   "id": "e14a129d-1d71-4a30-b9fd-eb22cf3a6044",
   "metadata": {},
   "outputs": [],
   "source": [
    "mnist = DataBlock(\n",
    "    (ImageBlock(cls=PILImageBW), CategoryBlock),\n",
    "    get_items = get_image_files,\n",
    "    splitter = GrandparentSplitter(),\n",
    "    get_y=parent_label\n",
    ")"
   ]
  },
  {
   "cell_type": "code",
   "execution_count": 55,
   "id": "ab283960-f410-461b-bc82-4bb084d2b19a",
   "metadata": {},
   "outputs": [],
   "source": [
    "dls = mnist.dataloaders(path)"
   ]
  },
  {
   "cell_type": "code",
   "execution_count": 56,
   "id": "831e6813-bccf-4cf3-8825-4633248318ca",
   "metadata": {},
   "outputs": [],
   "source": [
    "xb,yb = first(dls.valid)"
   ]
  },
  {
   "cell_type": "code",
   "execution_count": 57,
   "id": "76290f9b-6880-4a04-989d-8633da5a6ef6",
   "metadata": {},
   "outputs": [
    {
     "data": {
      "text/plain": [
       "torch.Size([64, 1, 28, 28])"
      ]
     },
     "execution_count": 57,
     "metadata": {},
     "output_type": "execute_result"
    }
   ],
   "source": [
    "xb.shape"
   ]
  },
  {
   "cell_type": "code",
   "execution_count": 68,
   "id": "36320c7c-1336-426b-9b22-f88d183f87a0",
   "metadata": {},
   "outputs": [
    {
     "data": {
      "image/png": "[encoded data removed]",
      "text/plain": [
       "<Figure size 72x72 with 1 Axes>"
      ]
     },
     "metadata": {
      "needs_background": "light"
     },
     "output_type": "display_data"
    }
   ],
   "source": [
    "show_image(xb[3]);"
   ]
  },
  {
   "cell_type": "code",
   "execution_count": 58,
   "id": "3a7450af-4adf-4120-889d-da373175709c",
   "metadata": {},
   "outputs": [],
   "source": [
    "xb,yb = to_cpu(xb), to_cpu(yb)"
   ]
  },
  {
   "cell_type": "code",
   "execution_count": 59,
   "id": "45864a3c-25d5-4ee3-a03e-a79da8319af7",
   "metadata": {},
   "outputs": [
    {
     "data": {
      "text/plain": [
       "(torch.Size([4, 3, 3]), torch.Size([4, 1, 3, 3]))"
      ]
     },
     "execution_count": 59,
     "metadata": {},
     "output_type": "execute_result"
    }
   ],
   "source": [
    "# (out_feature, channel, row, col)  \n",
    "edge_kernels.shape, edge_kernels.unsqueeze(1).shape "
   ]
  },
  {
   "cell_type": "code",
   "execution_count": 60,
   "id": "622e3622-f807-4b4a-a4a6-621b11b8c363",
   "metadata": {},
   "outputs": [],
   "source": [
    "edge_kernels = edge_kernels.unsqueeze(1)"
   ]
  },
  {
   "cell_type": "code",
   "execution_count": 61,
   "id": "ef22e80b-a246-416e-96da-94ec91485e9e",
   "metadata": {},
   "outputs": [
    {
     "data": {
      "text/plain": [
       "torch.Size([64, 4, 26, 26])"
      ]
     },
     "execution_count": 61,
     "metadata": {},
     "output_type": "execute_result"
    }
   ],
   "source": [
    "batch_features = F.conv2d(xb, edge_kernels); batch_features.shape"
   ]
  },
  {
   "cell_type": "code",
   "execution_count": 81,
   "id": "f15d3f4f-8b58-471c-bafe-12f009b24605",
   "metadata": {},
   "outputs": [
    {
     "data": {
      "image/png": "[encoded data removed]",
      "text/plain": [
       "<Figure size 72x72 with 1 Axes>"
      ]
     },
     "metadata": {
      "needs_background": "light"
     },
     "output_type": "display_data"
    },
    {
     "data": {
      "image/png": "[encoded data removed]",
      "text/plain": [
       "<Figure size 72x72 with 1 Axes>"
      ]
     },
     "metadata": {
      "needs_background": "light"
     },
     "output_type": "display_data"
    },
    {
     "data": {
      "image/png": "[encoded data removed]",
      "text/plain": [
       "<Figure size 72x72 with 1 Axes>"
      ]
     },
     "metadata": {
      "needs_background": "light"
     },
     "output_type": "display_data"
    },
    {
     "data": {
      "image/png": "[encoded data removed]",
      "text/plain": [
       "<Figure size 72x72 with 1 Axes>"
      ]
     },
     "metadata": {
      "needs_background": "light"
     },
     "output_type": "display_data"
    }
   ],
   "source": [
    "# left, top, diagonal (topleft -> bottomright), diagnonal (bottomleft -> topright)\n",
    "for i in range(4):\n",
    "    show_image(batch_features[0,i]);"
   ]
  },
  {
   "cell_type": "markdown",
   "id": "12c9fe06-890d-48f7-ac65-d3fcd23bd32e",
   "metadata": {},
   "source": [
    "## Our First Convolutional Neural Network "
   ]
  },
  {
   "cell_type": "code",
   "execution_count": null,
   "id": "60ddd066-a475-4c6c-9b49-5a899c11c482",
   "metadata": {},
   "outputs": [],
   "source": []
  }
 ],
 "metadata": {
  "environment": {
   "kernel": "python3",
   "name": "common-cu110.m95",
   "type": "gcloud",
   "uri": "gcr.io/deeplearning-platform-release/base-cu110:m95"
  },
  "kernelspec": {
   "display_name": "Python 3",
   "language": "python",
   "name": "python3"
  },
  "language_info": {
   "codemirror_mode": {
    "name": "ipython",
    "version": 3
   },
   "file_extension": ".py",
   "mimetype": "text/x-python",
   "name": "python",
   "nbconvert_exporter": "python",
   "pygments_lexer": "ipython3",
   "version": "3.7.12"
  }
 },
 "nbformat": 4,
 "nbformat_minor": 5
}
