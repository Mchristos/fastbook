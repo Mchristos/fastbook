{
 "cells": [
  {
   "cell_type": "code",
   "execution_count": 1,
   "id": "ba3b16b8",
   "metadata": {},
   "outputs": [
    {
     "name": "stdout",
     "output_type": "stream",
     "text": [
      "/usr/lib/python3/dist-packages/secretstorage/dhcrypto.py:15: CryptographyDeprecationWarning: int_from_bytes is deprecated, use int.from_bytes instead\n",
      "  from cryptography.utils import int_from_bytes\n",
      "/usr/lib/python3/dist-packages/secretstorage/util.py:19: CryptographyDeprecationWarning: int_from_bytes is deprecated, use int.from_bytes instead\n",
      "  from cryptography.utils import int_from_bytes\n"
     ]
    }
   ],
   "source": [
    "#hide\n",
    "! pip install -Uqq fastbook\n",
    "import fastbook\n",
    "fastbook.setup_book()"
   ]
  },
  {
   "cell_type": "code",
   "execution_count": 2,
   "id": "46fd7ef6",
   "metadata": {},
   "outputs": [],
   "source": [
    "#hide\n",
    "from fastai.vision.all import *\n",
    "from fastbook import *\n",
    "\n",
    "matplotlib.rc('image', cmap='Greys')"
   ]
  },
  {
   "cell_type": "code",
   "execution_count": 3,
   "id": "bd8d9595",
   "metadata": {},
   "outputs": [],
   "source": [
    "import numpy as np "
   ]
  },
  {
   "cell_type": "markdown",
   "id": "4058ca85",
   "metadata": {},
   "source": [
    "# Read input data: digit images"
   ]
  },
  {
   "cell_type": "code",
   "execution_count": 4,
   "id": "176c61b5",
   "metadata": {},
   "outputs": [
    {
     "data": {
      "text/plain": [
       "(#3) [Path('/home/mchristos/.fastai/data/mnist_sample/labels.csv'),Path('/home/mchristos/.fastai/data/mnist_sample/valid'),Path('/home/mchristos/.fastai/data/mnist_sample/train')]"
      ]
     },
     "execution_count": 4,
     "metadata": {},
     "output_type": "execute_result"
    }
   ],
   "source": [
    "path = untar_data(URLs.MNIST_SAMPLE)\n",
    "path.ls()"
   ]
  },
  {
   "cell_type": "markdown",
   "id": "ad907c44",
   "metadata": {},
   "source": [
    "We have a training and validation set of mnist digits 3 and 7 "
   ]
  },
  {
   "cell_type": "code",
   "execution_count": 5,
   "id": "cf7afda7",
   "metadata": {},
   "outputs": [],
   "source": [
    "threePaths = (path/'train'/'3').ls()\n",
    "sevenPaths = (path/'train'/'7').ls()"
   ]
  },
  {
   "cell_type": "markdown",
   "id": "bb7855ae",
   "metadata": {},
   "source": [
    "Run below to see a random three or seven image"
   ]
  },
  {
   "cell_type": "code",
   "execution_count": 6,
   "id": "e842a7a7",
   "metadata": {},
   "outputs": [
    {
     "data": {
      "image/png": "[encoded data removed]",
      "text/plain": [
       "<PIL.PngImagePlugin.PngImageFile image mode=L size=28x28 at 0x7FE3350EFDC0>"
      ]
     },
     "execution_count": 6,
     "metadata": {},
     "output_type": "execute_result"
    }
   ],
   "source": [
    "randomIndex = np.random.randint(len(threePaths))\n",
    "im3=Image.open(threePaths[randomIndex])\n",
    "im3"
   ]
  },
  {
   "cell_type": "code",
   "execution_count": 7,
   "id": "451591a3",
   "metadata": {},
   "outputs": [
    {
     "data": {
      "image/png": "[encoded data removed]",
      "text/plain": [
       "<PIL.PngImagePlugin.PngImageFile image mode=L size=28x28 at 0x7FE3F0390B50>"
      ]
     },
     "execution_count": 7,
     "metadata": {},
     "output_type": "execute_result"
    }
   ],
   "source": [
    "randomIndex = np.random.randint(len(sevenPaths))\n",
    "im7=Image.open(sevenPaths[randomIndex])\n",
    "im7"
   ]
  },
  {
   "cell_type": "code",
   "execution_count": 8,
   "id": "6a2fdc10",
   "metadata": {},
   "outputs": [
    {
     "data": {
      "text/plain": [
       "tensor([[  0,   0,   0,   0,   0,   0,   0,   0,   0,   0,   0,   0,   0,   0,   0,   0],\n",
       "        [  0,   0,   0,   0,   0,  39, 133, 180,  93,  71,  71,  11,   0,   0,   0,   0],\n",
       "        [  0,   0,   0,   0,   0,  32, 206, 229, 120, 235, 254, 243,  56,   0,   0,   0],\n",
       "        [  0,   0,   0,   0,   0,   0,   0,   0,   0, 104, 237, 253, 176,  13,   0,   0],\n",
       "        [  0,   0,   0,   0,   0,   0,   0,   0,   0,   0,  53, 253, 253,  84,   0,   0],\n",
       "        [  0,   0,   0,   0,   0,   0,   0,   0,   0,   0,   7, 202, 198,  24,   0,   0],\n",
       "        [  0,   0,   0,   0,   0,   0,   0,   0,   0,   0, 106, 253,  96,   0,   0,   0],\n",
       "        [  0,   0,   0,   0,   0,   0,   0,   0,   0,  41, 232, 253,  96,   0,   0,   0],\n",
       "        [  0,   0,   0,   0,   0,   0,   0,   0,   0, 167, 255, 253,  96,   0,   0,   0],\n",
       "        [  0,   0,   0,   0,   0,   0,   0,   0, 151, 252, 255, 231,   9,   0,   0,   0],\n",
       "        [  0,   0,   0,   0,   0,   0,   0,   0, 121, 248, 254, 252, 149,   0,   0,   0],\n",
       "        [  0,   0,   0,   0,   0,   0,   0,   0,   0,   0,   0,  24, 250, 148,   0,   0],\n",
       "        [  0,   0,   0,   0,   0,   0,   0,   0,   0,   0,   0,   0, 157, 205,   0,   0],\n",
       "        [  0,   0,   0,   0,   0,   0,   0,   0,   0,   0,   0,   0,  83, 205,   0,   0],\n",
       "        [  0,   0,   0,   0,   0,   0,   0,   0,   0,   0,   0,   5, 119,  84,   0,   0],\n",
       "        [  0,   0,   0,   0,   0,   0,   0,   0,   0,   0,   0,  25, 253, 113,   0,   0],\n",
       "        [  0,   0,   0,   0,   0,   0,   0,   0,   0,   0,   0,  25, 253, 205,   0,   0],\n",
       "        [  0,   0,   0,   0,   0,   0,   0,   0,   0,   0,   0, 124, 253, 205,   0,   0],\n",
       "        [  0,   0,   0,   0,   0,   0,   0,  38, 207,  10,  57, 238, 253, 158,   0,   0],\n",
       "        [  0,   0,   0,   0,   0,   0,   0,  56, 243, 231, 243, 253, 111,   8,   0,   0],\n",
       "        [  0,   0,   0,   0,   0,   0,   0,   0, 121, 190, 249, 121,   5,   0,   0,   0],\n",
       "        [  0,   0,   0,   0,   0,   0,   0,   0,   0,   0,   0,   0,   0,   0,   0,   0],\n",
       "        [  0,   0,   0,   0,   0,   0,   0,   0,   0,   0,   0,   0,   0,   0,   0,   0],\n",
       "        [  0,   0,   0,   0,   0,   0,   0,   0,   0,   0,   0,   0,   0,   0,   0,   0]], dtype=torch.uint8)"
      ]
     },
     "execution_count": 8,
     "metadata": {},
     "output_type": "execute_result"
    }
   ],
   "source": [
    "tensor(im3)[4:30,4:20]"
   ]
  },
  {
   "cell_type": "markdown",
   "id": "483f3353",
   "metadata": {},
   "source": [
    "# First Model"
   ]
  },
  {
   "cell_type": "code",
   "execution_count": 9,
   "id": "98a3a34a",
   "metadata": {},
   "outputs": [],
   "source": [
    "threes = [tensor(Image.open(x)) for x in threePaths ]\n",
    "sevens = [tensor(Image.open(x)) for x in sevenPaths ]"
   ]
  },
  {
   "cell_type": "code",
   "execution_count": 10,
   "id": "2c3ae8a6",
   "metadata": {},
   "outputs": [
    {
     "name": "stdout",
     "output_type": "stream",
     "text": [
      "6131 6265\n"
     ]
    }
   ],
   "source": [
    "print(len(threes), len(sevens))"
   ]
  },
  {
   "cell_type": "code",
   "execution_count": 11,
   "id": "37c15f51",
   "metadata": {},
   "outputs": [
    {
     "data": {
      "text/plain": [
       "<AxesSubplot:>"
      ]
     },
     "execution_count": 11,
     "metadata": {},
     "output_type": "execute_result"
    },
    {
     "data": {
      "image/png": "[encoded data removed]",
      "text/plain": [
       "<Figure size 72x72 with 1 Axes>"
      ]
     },
     "metadata": {
      "needs_background": "light"
     },
     "output_type": "display_data"
    }
   ],
   "source": [
    "show_image(threes[0])"
   ]
  },
  {
   "cell_type": "code",
   "execution_count": 12,
   "id": "7403a5e1",
   "metadata": {},
   "outputs": [],
   "source": [
    "stacked_threes = torch.stack(threes).float()\n",
    "stacked_sevens = torch.stack(sevens).float()"
   ]
  },
  {
   "cell_type": "code",
   "execution_count": 45,
   "id": "a490dea7",
   "metadata": {},
   "outputs": [
    {
     "name": "stdout",
     "output_type": "stream",
     "text": [
      "tensor(0.) tensor(1.)\n",
      "tensor(0.) tensor(1.)\n"
     ]
    }
   ],
   "source": [
    "# confirm that pixel values are in the range 0-255 (i.e. 256 range)\n",
    "print(stacked_threes.min(), stacked_threes.max())\n",
    "print(stacked_threes.min(), stacked_sevens.max())"
   ]
  },
  {
   "cell_type": "markdown",
   "id": "35dc71d2",
   "metadata": {},
   "source": [
    "Image pixel values are between 0 and 255 so we can scale it to be between - and 1 "
   ]
  },
  {
   "cell_type": "code",
   "execution_count": 14,
   "id": "fe52358f",
   "metadata": {},
   "outputs": [],
   "source": [
    "stacked_threes = torch.stack(threes).float()/255\n",
    "stacked_sevens = torch.stack(sevens).float()/255"
   ]
  },
  {
   "cell_type": "code",
   "execution_count": 15,
   "id": "509f851f",
   "metadata": {},
   "outputs": [
    {
     "data": {
      "text/plain": [
       "torch.Size([6131, 28, 28])"
      ]
     },
     "execution_count": 15,
     "metadata": {},
     "output_type": "execute_result"
    }
   ],
   "source": [
    "stacked_threes.shape"
   ]
  },
  {
   "cell_type": "code",
   "execution_count": 16,
   "id": "4e26289e",
   "metadata": {},
   "outputs": [
    {
     "data": {
      "text/plain": [
       "6131"
      ]
     },
     "execution_count": 16,
     "metadata": {},
     "output_type": "execute_result"
    }
   ],
   "source": [
    "len(stacked_threes)"
   ]
  },
  {
   "cell_type": "markdown",
   "id": "97234d75",
   "metadata": {},
   "source": [
    "We now have all our images stacked up in a single tensor (can imagine a cube stacked up with 2D images). Each image is 28 x 28, and for threes we have 6131 images. Interestingly the len() of these pytorch tensors are the rank (or dimension), i.e. 3"
   ]
  },
  {
   "cell_type": "code",
   "execution_count": 17,
   "id": "cde0457c",
   "metadata": {},
   "outputs": [
    {
     "data": {
      "text/plain": [
       "<AxesSubplot:>"
      ]
     },
     "execution_count": 17,
     "metadata": {},
     "output_type": "execute_result"
    },
    {
     "data": {
      "image/png": "[encoded data removed]",
      "text/plain": [
       "<Figure size 72x72 with 1 Axes>"
      ]
     },
     "metadata": {
      "needs_background": "light"
     },
     "output_type": "display_data"
    }
   ],
   "source": [
    "show_image(stacked_threes[0])"
   ]
  },
  {
   "cell_type": "markdown",
   "id": "405c2aca",
   "metadata": {},
   "source": [
    "## compute the \"average\" 3"
   ]
  },
  {
   "cell_type": "markdown",
   "id": "cff75556",
   "metadata": {},
   "source": [
    "We simply compute the mean over all images, i.e. mean along the 0 axis (the one of length number of images)"
   ]
  },
  {
   "cell_type": "code",
   "execution_count": 18,
   "id": "cea312a1",
   "metadata": {},
   "outputs": [
    {
     "data": {
      "text/plain": [
       "<AxesSubplot:>"
      ]
     },
     "execution_count": 18,
     "metadata": {},
     "output_type": "execute_result"
    },
    {
     "data": {
      "image/png": "[encoded data removed]",
      "text/plain": [
       "<Figure size 72x72 with 1 Axes>"
      ]
     },
     "metadata": {
      "needs_background": "light"
     },
     "output_type": "display_data"
    }
   ],
   "source": [
    "mean_three = stacked_threes.mean(0)\n",
    "show_image(mean_three)"
   ]
  },
  {
   "cell_type": "code",
   "execution_count": 19,
   "id": "4e15365f",
   "metadata": {},
   "outputs": [
    {
     "data": {
      "text/plain": [
       "<AxesSubplot:>"
      ]
     },
     "execution_count": 19,
     "metadata": {},
     "output_type": "execute_result"
    },
    {
     "data": {
      "image/png": "[encoded data removed]",
      "text/plain": [
       "<Figure size 72x72 with 1 Axes>"
      ]
     },
     "metadata": {
      "needs_background": "light"
     },
     "output_type": "display_data"
    }
   ],
   "source": [
    "mean_svn = stacked_sevens.mean(0)\n",
    "show_image(mean_svn)"
   ]
  },
  {
   "cell_type": "code",
   "execution_count": 20,
   "id": "ec57a3c3",
   "metadata": {},
   "outputs": [
    {
     "data": {
      "text/plain": [
       "torch.Tensor"
      ]
     },
     "execution_count": 20,
     "metadata": {},
     "output_type": "execute_result"
    }
   ],
   "source": [
    "type(mean_three)"
   ]
  },
  {
   "cell_type": "code",
   "execution_count": 21,
   "id": "6da84c89",
   "metadata": {},
   "outputs": [],
   "source": [
    "def classify(image: torch.Tensor):\n",
    "    \"\"\"\n",
    "    Classify as 28 x 28 image represented as a pytorch tensor\n",
    "    \n",
    "    Returns the digit which has the least mean squared distance from the image. i.e. we decide if itsa seven or a three \n",
    "    by seeing which \"ideal\" digit its closest to\n",
    "    \"\"\"\n",
    "    distance_three = ((image - mean_three)**2).sum().sqrt()\n",
    "    # or, compute this with the pytorch loss function MSE (mean squared error) \n",
    "    distance_three = F.mse_loss(image, mean_three).sqrt()\n",
    "    distance_svn = F.mse_loss(image, mean_svn).sqrt()\n",
    "    return 0 if distance_svn < distance_three else 1"
   ]
  },
  {
   "cell_type": "markdown",
   "id": "affced42",
   "metadata": {},
   "source": [
    "## Evaluate our classifier on the test set "
   ]
  },
  {
   "cell_type": "code",
   "execution_count": 22,
   "id": "142389b8",
   "metadata": {},
   "outputs": [],
   "source": [
    "testThrees = [tensor(Image.open(p)) for p in (path/'valid'/'3').ls()]\n",
    "testSvns = [tensor(Image.open(p)) for p in (path/'valid'/'7').ls()]"
   ]
  },
  {
   "cell_type": "code",
   "execution_count": 23,
   "id": "89089a02",
   "metadata": {},
   "outputs": [],
   "source": [
    "X = testThrees + testSvns\n",
    "y = tensor(len(testThrees)*[1] + len(testSvns)*[0]) "
   ]
  },
  {
   "cell_type": "code",
   "execution_count": 24,
   "id": "9c366729",
   "metadata": {},
   "outputs": [],
   "source": [
    "y_pred = tensor([classify(x) for x in X])"
   ]
  },
  {
   "cell_type": "code",
   "execution_count": 25,
   "id": "e41738c1",
   "metadata": {},
   "outputs": [
    {
     "data": {
      "text/plain": [
       "tensor([1, 1, 1,  ..., 1, 0, 0])"
      ]
     },
     "execution_count": 25,
     "metadata": {},
     "output_type": "execute_result"
    }
   ],
   "source": [
    "y_pred"
   ]
  },
  {
   "cell_type": "code",
   "execution_count": 26,
   "id": "e2286a22",
   "metadata": {},
   "outputs": [
    {
     "data": {
      "text/plain": [
       "tensor(0.9475)"
      ]
     },
     "execution_count": 26,
     "metadata": {},
     "output_type": "execute_result"
    }
   ],
   "source": [
    "accuracy = 1- ((y - y_pred)**2).sum()/len(y)\n",
    "accuracy"
   ]
  },
  {
   "cell_type": "code",
   "execution_count": 27,
   "id": "0e36d221",
   "metadata": {},
   "outputs": [
    {
     "data": {
      "text/plain": [
       "tensor(0.9161)"
      ]
     },
     "execution_count": 27,
     "metadata": {},
     "output_type": "execute_result"
    }
   ],
   "source": [
    "# Precision on predicting 3 \n",
    "# i.e. out of all the times we predicted 3, what fraction was correct? \n",
    "precision_3 = torch.logical_and(y_pred == 1,y == y_pred).sum() / (y_pred==1).sum()\n",
    "precision_3"
   ]
  },
  {
   "cell_type": "code",
   "execution_count": 28,
   "id": "1b96830a",
   "metadata": {},
   "outputs": [
    {
     "data": {
      "text/plain": [
       "tensor(0.9842)"
      ]
     },
     "execution_count": 28,
     "metadata": {},
     "output_type": "execute_result"
    }
   ],
   "source": [
    "# Recall on digit 3 \n",
    "# i.e. out of all the true 3 digits, what fraction did we \"hit\"? \n",
    "recall_3 = torch.logical_and(y == 1,y == y_pred).sum() / (y==1).sum()\n",
    "recall_3"
   ]
  },
  {
   "cell_type": "markdown",
   "id": "33820aa9",
   "metadata": {},
   "source": [
    "Our recall is more than 98%, so almost all of the actual 3's we predict correctly. OUr precision on 3 is a bit lower, so that means that we're predicting 3 on some digits that were actually a 7. As you can see below, we are predicting 1085 digits to be a 3 but there are only 1010 true 3s."
   ]
  },
  {
   "cell_type": "code",
   "execution_count": 29,
   "id": "887de53c",
   "metadata": {},
   "outputs": [
    {
     "name": "stdout",
     "output_type": "stream",
     "text": [
      "tensor(1085)\n",
      "tensor(1010)\n"
     ]
    }
   ],
   "source": [
    "print((y_pred==1).sum())\n",
    "print((y==1).sum())"
   ]
  },
  {
   "cell_type": "markdown",
   "id": "762afa1c",
   "metadata": {},
   "source": [
    "Overall pretty damn impressive for such a naive algorithm! "
   ]
  },
  {
   "cell_type": "markdown",
   "id": "744e2b02",
   "metadata": {},
   "source": [
    "## Vectorize that code "
   ]
  },
  {
   "cell_type": "markdown",
   "id": "23654ac8",
   "metadata": {},
   "source": [
    "I wrote that off the top of my head, and one bad thing I did is use a python loop (list comprehension) to compute all the predictions in batch on the validation set. Lets rather do this in a vectorized manner "
   ]
  },
  {
   "cell_type": "code",
   "execution_count": 72,
   "id": "29fc09ad",
   "metadata": {},
   "outputs": [],
   "source": [
    "# l2 distanec \n",
    "def mnist_distance(im_a, im_b): return ((im_a - im_b)**2).sum().sqrt()\n",
    "# l1 distance \n",
    "def mnist_distance(im_a,im_b): return (im_a-im_b).abs().mean((-1,-2))"
   ]
  },
  {
   "cell_type": "code",
   "execution_count": 73,
   "id": "74ae22ed",
   "metadata": {},
   "outputs": [],
   "source": [
    "valid_3s = torch.stack([tensor(Image.open(p)) for p in (path/'valid'/'3').ls()]).float()/255\n",
    "valid_7s = torch.stack([tensor(Image.open(p)) for p in (path/'valid'/'7').ls()]).float()/255"
   ]
  },
  {
   "cell_type": "code",
   "execution_count": 74,
   "id": "0a6e06d9",
   "metadata": {},
   "outputs": [],
   "source": [
    "def is_3(image): return mnist_distance(image, mean_three) < mnist_distance(image, mean_svn)"
   ]
  },
  {
   "cell_type": "code",
   "execution_count": 75,
   "id": "7623256c",
   "metadata": {},
   "outputs": [],
   "source": [
    "X_val = torch.stack([*valid_3s, *valid_7s])\n",
    "y_val = tensor(len(valid_3s)*[1] + len(valid_7s)*[0]).float()"
   ]
  },
  {
   "cell_type": "code",
   "execution_count": 76,
   "id": "2e8be623",
   "metadata": {},
   "outputs": [],
   "source": [
    "y_pred = is_3(X_val).float()"
   ]
  },
  {
   "cell_type": "code",
   "execution_count": 77,
   "id": "cb0c68e3",
   "metadata": {},
   "outputs": [
    {
     "data": {
      "text/plain": [
       "tensor(0.9514)"
      ]
     },
     "execution_count": 77,
     "metadata": {},
     "output_type": "execute_result"
    }
   ],
   "source": [
    "accuracy = (y_pred == y_val).sum() / len(y_val)\n",
    "accuracy"
   ]
  },
  {
   "cell_type": "code",
   "execution_count": 70,
   "id": "412f5939",
   "metadata": {},
   "outputs": [
    {
     "data": {
      "text/plain": [
       "tensor(0.9841)"
      ]
     },
     "execution_count": 70,
     "metadata": {},
     "output_type": "execute_result"
    }
   ],
   "source": [
    "precision_3 = torch.logical_and(y_pred == 1,y_val == y_pred).sum() / (y_pred==1).sum()\n",
    "precision_3"
   ]
  },
  {
   "cell_type": "code",
   "execution_count": 71,
   "id": "6c000b85",
   "metadata": {},
   "outputs": [
    {
     "data": {
      "text/plain": [
       "array([[1013,   15],\n",
       "       [  84,  926]])"
      ]
     },
     "execution_count": 71,
     "metadata": {},
     "output_type": "execute_result"
    }
   ],
   "source": [
    "from sklearn.metrics import confusion_matrix\n",
    "confusion_matrix(y_val, y_pred)"
   ]
  },
  {
   "cell_type": "markdown",
   "id": "a4a7cf2b",
   "metadata": {},
   "source": [
    "## Training a REAL model "
   ]
  },
  {
   "cell_type": "markdown",
   "id": "c19efff4",
   "metadata": {},
   "source": [
    "lets prepare our training data - we'll flatten each image into a single vector (28x28=784) and use 784 weights, one for each pixel. "
   ]
  },
  {
   "cell_type": "code",
   "execution_count": 78,
   "id": "a53edf50",
   "metadata": {},
   "outputs": [],
   "source": [
    "threes = [tensor(Image.open(x)) for x in (path/'train'/'3').ls() ]\n",
    "sevens = [tensor(Image.open(x)) for x in (path/'train'/'7').ls() ]\n",
    "stacked_3s = torch.stack(threes).float()/255\n",
    "stacked_7s = torch.stack(sevens).float()/255"
   ]
  },
  {
   "cell_type": "code",
   "execution_count": 79,
   "id": "35efcc38",
   "metadata": {},
   "outputs": [
    {
     "name": "stdout",
     "output_type": "stream",
     "text": [
      "torch.Size([6131, 28, 28])\n",
      "torch.Size([6265, 28, 28])\n"
     ]
    }
   ],
   "source": [
    "print(stacked_3s.shape)\n",
    "print(stacked_7s.shape)"
   ]
  },
  {
   "cell_type": "code",
   "execution_count": 80,
   "id": "e31a30d7",
   "metadata": {},
   "outputs": [
    {
     "data": {
      "text/plain": [
       "torch.Size([12396, 784])"
      ]
     },
     "execution_count": 80,
     "metadata": {},
     "output_type": "execute_result"
    }
   ],
   "source": [
    "# cast each 2d image into a 1d array \n",
    "train_x = torch.cat([stacked_3s, stacked_7s]).view(-1,28*28)\n",
    "train_x.shape"
   ]
  },
  {
   "cell_type": "code",
   "execution_count": 81,
   "id": "d94b1619",
   "metadata": {},
   "outputs": [
    {
     "data": {
      "text/plain": [
       "torch.Size([12396, 1])"
      ]
     },
     "execution_count": 81,
     "metadata": {},
     "output_type": "execute_result"
    }
   ],
   "source": [
    "# in python list1 + list2 concatenates the contents of the two lists\n",
    "train_y = tensor([1]*len(threes) + [0]*len(sevens)).unsqueeze(1)\n",
    "train_y.shape"
   ]
  },
  {
   "cell_type": "code",
   "execution_count": 82,
   "id": "2fbc8901",
   "metadata": {},
   "outputs": [
    {
     "data": {
      "text/plain": [
       "(torch.Size([784]), tensor([1]))"
      ]
     },
     "execution_count": 82,
     "metadata": {},
     "output_type": "execute_result"
    }
   ],
   "source": [
    "# define a dataset of (image, label) tuples \n",
    "dset_train = list(zip(train_x, train_y))\n",
    "x,y = dset_train[0]\n",
    "x.shape, y "
   ]
  },
  {
   "cell_type": "code",
   "execution_count": 291,
   "id": "fb9dfd8e",
   "metadata": {},
   "outputs": [
    {
     "data": {
      "text/plain": [
       "(torch.Size([2038, 784]), torch.Size([2038, 1]))"
      ]
     },
     "execution_count": 291,
     "metadata": {},
     "output_type": "execute_result"
    }
   ],
   "source": [
    "valid_3s = [tensor(Image.open(x)) for x in (path/'valid'/'3').ls()]\n",
    "valid_7s = [tensor(Image.open(x)) for x in (path/'valid'/'7').ls()]\n",
    "valid_x = torch.cat ([\n",
    "    torch.stack(valid_3s).float()/255,\n",
    "    torch.stack(valid_7s).float()/255\n",
    "]).view(-1,28*28)\n",
    "valid_y = tensor([1]*len(valid_3s) + [0]*len(valid_7s)).unsqueeze(1)\n",
    "valid_x.shape, valid_y.shape"
   ]
  },
  {
   "cell_type": "code",
   "execution_count": 292,
   "id": "3396d48c",
   "metadata": {},
   "outputs": [],
   "source": [
    "dset_valid = list(zip(valid_x, valid_y))"
   ]
  },
  {
   "cell_type": "code",
   "execution_count": 293,
   "id": "a7b2f429",
   "metadata": {},
   "outputs": [],
   "source": [
    "# initialize parameters randomly from a normal distribution around 0 with std=1\n",
    "# remember to mark the parameters as requiring grad, since we will be updating them based on gradients! \n",
    "def init_params(size, std=1.0): return (torch.randn(size)*std).requires_grad_()"
   ]
  },
  {
   "cell_type": "markdown",
   "id": "e82db64f",
   "metadata": {},
   "source": [
    "Initialize a model by defining a set of 784 weights (that's 28*28, i.e. a weight for every pixel) plus a bias. We compute the prediction by taking the dot product of an image with the weights vector, and adding the bias (a number). \n",
    "\n",
    "Since weights are pulled from a normal distribution around zero, they are equally likely to push the final prediction to be a positive or a negative number. So we can arbitrarily decide that a positive number means a 3, and a negative number means 7 "
   ]
  },
  {
   "cell_type": "code",
   "execution_count": 294,
   "id": "f3e10669",
   "metadata": {},
   "outputs": [
    {
     "data": {
      "text/plain": [
       "(torch.Size([784, 1]), torch.Size([1]))"
      ]
     },
     "execution_count": 294,
     "metadata": {},
     "output_type": "execute_result"
    }
   ],
   "source": [
    "# Randomly initialize weights and bias \n",
    "# y = w*x + b\n",
    "weights = init_params([28*28,1])\n",
    "bias = init_params(1)\n",
    "weights.shape, bias.shape"
   ]
  },
  {
   "cell_type": "code",
   "execution_count": 295,
   "id": "447ce1ac",
   "metadata": {},
   "outputs": [
    {
     "data": {
      "text/plain": [
       "tensor([-6.8456], grad_fn=<AddBackward0>)"
      ]
     },
     "execution_count": 295,
     "metadata": {},
     "output_type": "execute_result"
    }
   ],
   "source": [
    "# compute a prediction \n",
    "# (+) => 3 , (-) => 7\n",
    "(train_x[0]*weights.T).sum() + bias"
   ]
  },
  {
   "cell_type": "code",
   "execution_count": 296,
   "id": "cd430027",
   "metadata": {},
   "outputs": [
    {
     "data": {
      "text/plain": [
       "tensor([-6.8456], grad_fn=<AddBackward0>)"
      ]
     },
     "execution_count": 296,
     "metadata": {},
     "output_type": "execute_result"
    }
   ],
   "source": [
    "# or do the same with matrix multiplication \n",
    "train_x[0]@weights + bias"
   ]
  },
  {
   "cell_type": "code",
   "execution_count": 297,
   "id": "8acf23d4",
   "metadata": {},
   "outputs": [
    {
     "data": {
      "text/plain": [
       "(tensor([[0.],\n",
       "         [0.],\n",
       "         [1.],\n",
       "         ...,\n",
       "         [1.],\n",
       "         [0.],\n",
       "         [1.]]),\n",
       " tensor([[1],\n",
       "         [1],\n",
       "         [1],\n",
       "         ...,\n",
       "         [0],\n",
       "         [0],\n",
       "         [0]]))"
      ]
     },
     "execution_count": 297,
     "metadata": {},
     "output_type": "execute_result"
    }
   ],
   "source": [
    "# to compute predictions on the whole batch at once, we can use matrix multiplication\n",
    "def linear1(X): return X@weights + bias\n",
    "\n",
    "preds = linear1(train_x)\n",
    "predicted_y = (preds > 0).float()\n",
    "predicted_y, train_y  "
   ]
  },
  {
   "cell_type": "code",
   "execution_count": 298,
   "id": "e990c3a3",
   "metadata": {},
   "outputs": [
    {
     "data": {
      "text/plain": [
       "tensor(0.4184)"
      ]
     },
     "execution_count": 298,
     "metadata": {},
     "output_type": "execute_result"
    }
   ],
   "source": [
    "corrects = predicted_y == train_y\n",
    "accuracy = corrects.float().sum()/len(corrects)\n",
    "accuracy"
   ]
  },
  {
   "cell_type": "markdown",
   "id": "dfd427c7",
   "metadata": {},
   "source": [
    "Looks like our accuracy is close to 0.5, i.e. pretty much random, and that's exactly what we would expect for randomly initialized weights\n",
    "\n",
    "Now we need to decide on a loss function and start tuning those weights! First we'll use the sigmoid function to make sure all predictions are between 0 and 1 rather than from [-inf,+inf]. Then we can easily get a distance between a predition (say it's 0.6) and the correct answer, either 0 (3) or 1 (7) "
   ]
  },
  {
   "cell_type": "code",
   "execution_count": 299,
   "id": "6bad6d73",
   "metadata": {},
   "outputs": [],
   "source": [
    "def sigmoid(x): return 1 / (1 + torch.exp(-x))"
   ]
  },
  {
   "cell_type": "code",
   "execution_count": 300,
   "id": "f352f379",
   "metadata": {},
   "outputs": [
    {
     "data": {
      "image/png": "[encoded data removed]",
      "text/plain": [
       "<Figure size 432x288 with 1 Axes>"
      ]
     },
     "metadata": {
      "needs_background": "light"
     },
     "output_type": "display_data"
    }
   ],
   "source": [
    "plot_function(sigmoid, title=\"Sigmoid\", min=-4,max=4)"
   ]
  },
  {
   "cell_type": "code",
   "execution_count": 301,
   "id": "6020ea54",
   "metadata": {},
   "outputs": [
    {
     "data": {
      "text/plain": [
       "tensor([[1.0630e-03],\n",
       "        [8.5616e-04],\n",
       "        [9.6794e-01],\n",
       "        ...,\n",
       "        [9.1929e-01],\n",
       "        [1.4317e-03],\n",
       "        [6.7517e-01]], grad_fn=<SigmoidBackward0>)"
      ]
     },
     "execution_count": 301,
     "metadata": {},
     "output_type": "execute_result"
    }
   ],
   "source": [
    "preds.sigmoid()"
   ]
  },
  {
   "cell_type": "code",
   "execution_count": 302,
   "id": "3e6536b5",
   "metadata": {},
   "outputs": [],
   "source": [
    "def mnist_loss(predictions, targets):\n",
    "    \"Computes the loss for a whole batch of predictions. We take the mean of the loss for each prediction\"\n",
    "    sigpreds = predictions.sigmoid()\n",
    "    return (targets - sigpreds).abs().mean() "
   ]
  },
  {
   "cell_type": "code",
   "execution_count": 303,
   "id": "79d02d3e",
   "metadata": {},
   "outputs": [
    {
     "data": {
      "text/plain": [
       "tensor(0.5776, grad_fn=<MeanBackward0>)"
      ]
     },
     "execution_count": 303,
     "metadata": {},
     "output_type": "execute_result"
    }
   ],
   "source": [
    "mnist_loss(preds, train_y)"
   ]
  },
  {
   "cell_type": "markdown",
   "id": "434e9eba",
   "metadata": {},
   "source": [
    "## DataLoader and mini-batches "
   ]
  },
  {
   "cell_type": "code",
   "execution_count": 304,
   "id": "7d82aa4d",
   "metadata": {},
   "outputs": [
    {
     "data": {
      "text/plain": [
       "[tensor([0, 3, 6, 1, 5]),\n",
       " tensor([10,  8, 12,  9,  4]),\n",
       " tensor([13,  7,  2, 11, 14])]"
      ]
     },
     "execution_count": 304,
     "metadata": {},
     "output_type": "execute_result"
    }
   ],
   "source": [
    "# create 15 data points \n",
    "data = range(15)\n",
    "dl = DataLoader(data, batch_size=5, shuffle=True)\n",
    "list(dl)"
   ]
  },
  {
   "cell_type": "code",
   "execution_count": 305,
   "id": "315c5e2d",
   "metadata": {},
   "outputs": [
    {
     "data": {
      "text/plain": [
       "(49, 12396)"
      ]
     },
     "execution_count": 305,
     "metadata": {},
     "output_type": "execute_result"
    }
   ],
   "source": [
    "# Usually you feed a dataloader a dataset of (x,y) tuples where y is the label and x the input. \n",
    "dl_train = DataLoader(dset_train, batch_size=256)\n",
    "len(dl_train), len(dset_train)"
   ]
  },
  {
   "cell_type": "code",
   "execution_count": 306,
   "id": "3894c2d5",
   "metadata": {},
   "outputs": [
    {
     "data": {
      "text/plain": [
       "108"
      ]
     },
     "execution_count": 306,
     "metadata": {},
     "output_type": "execute_result"
    }
   ],
   "source": [
    "12396 - 48*256"
   ]
  },
  {
   "cell_type": "markdown",
   "id": "b3db6c6e",
   "metadata": {},
   "source": [
    "We have 49 batches of size 256 - that makes space for 49x256=12544 data points, i.e. enough space for our dataset (the last batch is smaller, with 12396 - 48x256 = 108 data points - check for yourself by getting the last batch in the data loader)"
   ]
  },
  {
   "cell_type": "code",
   "execution_count": 307,
   "id": "8f62e926",
   "metadata": {},
   "outputs": [
    {
     "data": {
      "text/plain": [
       "(torch.Size([256, 784]), torch.Size([256, 1]))"
      ]
     },
     "execution_count": 307,
     "metadata": {},
     "output_type": "execute_result"
    }
   ],
   "source": [
    "# This is our first batch of data: \n",
    "x_batch, y_batch = list(dl_train)[0]\n",
    "x_batch.shape, y_batch.shape"
   ]
  },
  {
   "cell_type": "code",
   "execution_count": 308,
   "id": "add6c79a",
   "metadata": {},
   "outputs": [],
   "source": [
    "# create another data loader for the validation set \n",
    "dl_valid = DataLoader(dset_valid,batch_size=256)"
   ]
  },
  {
   "cell_type": "code",
   "execution_count": 309,
   "id": "dd307d5e",
   "metadata": {},
   "outputs": [
    {
     "data": {
      "text/plain": [
       "torch.Size([246, 784])"
      ]
     },
     "execution_count": 309,
     "metadata": {},
     "output_type": "execute_result"
    }
   ],
   "source": [
    "x,y=list(dl_valid)[-1]\n",
    "x.shape"
   ]
  },
  {
   "cell_type": "code",
   "execution_count": 310,
   "id": "59c939ca",
   "metadata": {},
   "outputs": [
    {
     "data": {
      "text/plain": [
       "torch.Size([12396, 784])"
      ]
     },
     "execution_count": 310,
     "metadata": {},
     "output_type": "execute_result"
    }
   ],
   "source": [
    "train_x.shape"
   ]
  },
  {
   "cell_type": "markdown",
   "id": "1b20d12f",
   "metadata": {},
   "source": [
    "## Ok let's try training something using gradients!  "
   ]
  },
  {
   "cell_type": "code",
   "execution_count": 311,
   "id": "d53aebda",
   "metadata": {},
   "outputs": [
    {
     "data": {
      "text/plain": [
       "torch.Size([4, 784])"
      ]
     },
     "execution_count": 311,
     "metadata": {},
     "output_type": "execute_result"
    }
   ],
   "source": [
    "# manually try with a batch size of 4  \n",
    "batch = train_x[:4]\n",
    "batch.shape "
   ]
  },
  {
   "cell_type": "code",
   "execution_count": 312,
   "id": "06b0d534",
   "metadata": {},
   "outputs": [
    {
     "data": {
      "text/plain": [
       "tensor([[-6.8456],\n",
       "        [-7.0622],\n",
       "        [ 3.4075],\n",
       "        [-5.1138]], grad_fn=<AddBackward0>)"
      ]
     },
     "execution_count": 312,
     "metadata": {},
     "output_type": "execute_result"
    }
   ],
   "source": [
    "preds = linear1(batch)\n",
    "preds\n",
    "# remember that sigmoid values are bundled into the loss function "
   ]
  },
  {
   "cell_type": "code",
   "execution_count": 313,
   "id": "230ad905",
   "metadata": {},
   "outputs": [
    {
     "data": {
      "text/plain": [
       "tensor(0.7560, grad_fn=<MeanBackward0>)"
      ]
     },
     "execution_count": 313,
     "metadata": {},
     "output_type": "execute_result"
    }
   ],
   "source": [
    "loss = mnist_loss(preds, train_y[:4])\n",
    "loss"
   ]
  },
  {
   "cell_type": "code",
   "execution_count": 314,
   "id": "523da334",
   "metadata": {},
   "outputs": [],
   "source": [
    "loss.backward()"
   ]
  },
  {
   "cell_type": "code",
   "execution_count": 315,
   "id": "91fc2118",
   "metadata": {},
   "outputs": [
    {
     "data": {
      "text/plain": [
       "(tensor(-0.0017), tensor([-0.0097]))"
      ]
     },
     "execution_count": 315,
     "metadata": {},
     "output_type": "execute_result"
    }
   ],
   "source": [
    "weights.grad.mean(), bias.grad"
   ]
  },
  {
   "cell_type": "code",
   "execution_count": 364,
   "id": "83f8fbc5",
   "metadata": {},
   "outputs": [],
   "source": [
    "def calc_grad(xb,yb,model):\n",
    "    \"\"\"\n",
    "    Calculate the gradient on all the parameters implicit in the model. \n",
    "    This modifies the gradient attributes on the relevant parameter objects, and these can be used \n",
    "    to update the params \n",
    "    xb: batch of inputs \n",
    "    yb: batch of labels \n",
    "    model: function that computes (batch of) predictions relative to current param values \n",
    "    \"\"\"\n",
    "    preds = model(xb)\n",
    "    loss = mnist_loss(preds, yb)\n",
    "    # modified the gradient attributes of the weights, which are implicit in the \"model\" definition\n",
    "    # , in our case linear1\n",
    "    loss.backward()"
   ]
  },
  {
   "cell_type": "code",
   "execution_count": 317,
   "id": "f64644a2",
   "metadata": {},
   "outputs": [
    {
     "data": {
      "text/plain": [
       "(tensor(-0.0017), tensor([-0.0097]))"
      ]
     },
     "execution_count": 317,
     "metadata": {},
     "output_type": "execute_result"
    }
   ],
   "source": [
    "# we need to zero the gradients before recomputing, otherwise it adds to the gradients\n",
    "# that are currently stored for the weights\n",
    "#  \n",
    "# note: methods ending in _ in pytorch mean they modify the object (\"in-place\" operation)\n",
    "weights.grad.zero_()\n",
    "bias.grad.zero_()\n",
    "calc_grad(train_x[:4], train_y[:4], linear1)\n",
    "weights.grad.mean(), bias.grad"
   ]
  },
  {
   "cell_type": "code",
   "execution_count": 327,
   "id": "b3f94739",
   "metadata": {},
   "outputs": [],
   "source": [
    "def train_epoch(model, lr, params):\n",
    "    \"\"\"\n",
    "    model: \n",
    "        function that computes the batch of outputs from a batch of inputs. Model weights \n",
    "        are implicit in this function\n",
    "    lr: \n",
    "        learning rate \n",
    "    params: \n",
    "        Each of the (sets of) parameters that update based on gradient. \n",
    "        In our case, they are \"weights\" and \"bias\"  \n",
    "    \"\"\"\n",
    "    for xb, yb in dl_train:\n",
    "        calc_grad(xb,yb,model)\n",
    "        for p in params:\n",
    "            # update all the weights / bias\n",
    "            p.data -= p.grad*lr\n",
    "            p.grad.zero_()\n"
   ]
  },
  {
   "cell_type": "code",
   "execution_count": 328,
   "id": "74a28f44",
   "metadata": {},
   "outputs": [],
   "source": [
    "def batch_accuracy(y_preds,y_batch):\n",
    "    preds = y_preds.sigmoid()\n",
    "    correct = (preds > 0.5) == y_batch\n",
    "    # mean of array of 0/1 values is the same as the fraction of values that are 1\n",
    "    return correct.float().mean()"
   ]
  },
  {
   "cell_type": "code",
   "execution_count": 329,
   "id": "7e6cfb56",
   "metadata": {},
   "outputs": [
    {
     "data": {
      "text/plain": [
       "tensor(0.2500)"
      ]
     },
     "execution_count": 329,
     "metadata": {},
     "output_type": "execute_result"
    }
   ],
   "source": [
    "batch_accuracy(linear1(train_x[:4]), train_y[:4])"
   ]
  },
  {
   "cell_type": "code",
   "execution_count": 359,
   "id": "730f9922",
   "metadata": {},
   "outputs": [
    {
     "data": {
      "text/plain": [
       "0.4660862684249878"
      ]
     },
     "execution_count": 359,
     "metadata": {},
     "output_type": "execute_result"
    }
   ],
   "source": [
    "# define a function that tells how well our current model is doing on our validation set \n",
    "def validate_model(model):\n",
    "    accs = [batch_accuracy(model(xb), yb) for xb,yb in dl_valid]\n",
    "    return torch.stack(accs).mean().item()\n",
    "validate_model(linear1)"
   ]
  },
  {
   "cell_type": "code",
   "execution_count": 360,
   "id": "21b59c25",
   "metadata": {},
   "outputs": [
    {
     "data": {
      "text/plain": [
       "0.656150758266449"
      ]
     },
     "execution_count": 360,
     "metadata": {},
     "output_type": "execute_result"
    }
   ],
   "source": [
    "# right now we're doing pretty bad! let's see if training for one epoch helps\n",
    "train_epoch(linear1, lr=1., params=[weights, bias])\n",
    "validate_model(linear1)"
   ]
  },
  {
   "cell_type": "markdown",
   "id": "8637d75a",
   "metadata": {},
   "source": [
    "It definitely got better! let's try training for a few more epochs in a loop "
   ]
  },
  {
   "cell_type": "code",
   "execution_count": 363,
   "id": "3fa84a4d",
   "metadata": {},
   "outputs": [
    {
     "name": "stdout",
     "output_type": "stream",
     "text": [
      "0.6517959237098694\n",
      "0.8329482674598694\n",
      "0.8973815441131592\n",
      "0.931541383266449\n",
      "0.9437285661697388\n",
      "0.9505645036697388\n",
      "0.9554473161697388\n",
      "0.9598418474197388\n",
      "0.9632995128631592\n",
      "0.9642760753631592\n",
      "0.9652526378631592\n",
      "0.9657409191131592\n",
      "0.9672057628631592\n",
      "0.9676940441131592\n",
      "0.9686706066131592\n",
      "0.9696471691131592\n",
      "0.9701354503631592\n",
      "0.9706237316131592\n",
      "0.9706237316131592\n",
      "0.9711120128631592\n"
     ]
    }
   ],
   "source": [
    "# let's train now for a few more epochs! I'll re-initialize weights just to see the uptrend\n",
    "weights = init_params([28*28,1])\n",
    "bias = init_params(1)\n",
    "for i in range(20):\n",
    "    train_epoch(linear1, lr=1., params=[weights, bias])\n",
    "    acc = validate_model(linear1)\n",
    "    print(acc)"
   ]
  },
  {
   "cell_type": "code",
   "execution_count": 385,
   "id": "970b0b1f",
   "metadata": {},
   "outputs": [
    {
     "data": {
      "text/plain": [
       "tensor(1747)"
      ]
     },
     "execution_count": 385,
     "metadata": {},
     "output_type": "execute_result"
    }
   ],
   "source": []
  },
  {
   "cell_type": "code",
   "execution_count": 400,
   "id": "13a4cf52",
   "metadata": {},
   "outputs": [
    {
     "data": {
      "text/plain": [
       "(<AxesSubplot:>, tensor([0]))"
      ]
     },
     "execution_count": 400,
     "metadata": {},
     "output_type": "execute_result"
    },
    {
     "data": {
      "image/png": "[encoded data removed]",
      "text/plain": [
       "<Figure size 72x72 with 1 Axes>"
      ]
     },
     "metadata": {
      "needs_background": "light"
     },
     "output_type": "display_data"
    }
   ],
   "source": [
    "# I want to see it just to be sure \n",
    "rand_index = torch.randint(0,len(dset_valid),[1])[0]\n",
    "sample_x, sample_y = dset_valid[rand_index]\n",
    "show_image(sample_x.reshape([28,28])), sample_y"
   ]
  },
  {
   "cell_type": "code",
   "execution_count": 401,
   "id": "e530735c",
   "metadata": {},
   "outputs": [
    {
     "data": {
      "text/plain": [
       "(0, tensor([0]))"
      ]
     },
     "execution_count": 401,
     "metadata": {},
     "output_type": "execute_result"
    }
   ],
   "source": [
    "# 1 => 3, 0 => 7\n",
    "round(float(linear1(sample_x).sigmoid()[0])), sample_y"
   ]
  },
  {
   "cell_type": "markdown",
   "id": "e6570ee4",
   "metadata": {},
   "source": [
    "Sure seems to get the correct answer on random validation samples! We get 97% accuracy after 20 epochs "
   ]
  },
  {
   "cell_type": "markdown",
   "id": "8316760f",
   "metadata": {},
   "source": [
    "## Doing training the fastai way \n",
    "### (using an Optimizer)\n",
    "\n",
    "First off, we use pytorch's built-in linear function instead of manually defining it. This comes with a set of weights and bias built in. "
   ]
  },
  {
   "cell_type": "code",
   "execution_count": 432,
   "id": "0d9b1f24",
   "metadata": {},
   "outputs": [],
   "source": [
    "linear_model = nn.Linear(28*28,1)"
   ]
  },
  {
   "cell_type": "code",
   "execution_count": 433,
   "id": "ffe2437d",
   "metadata": {},
   "outputs": [
    {
     "data": {
      "text/plain": [
       "(torch.Size([1, 784]), torch.Size([1]))"
      ]
     },
     "execution_count": 433,
     "metadata": {},
     "output_type": "execute_result"
    }
   ],
   "source": [
    "w,b=linear_model.parameters()\n",
    "w.shape,b.shape"
   ]
  },
  {
   "cell_type": "code",
   "execution_count": 434,
   "id": "75749962",
   "metadata": {},
   "outputs": [],
   "source": [
    "# definte our own Optimizer class \n",
    "\n",
    "class BasicOptimizer:\n",
    "    def __init__(self, params, lr): \n",
    "        self.params, self.lr = list(params), lr\n",
    "\n",
    "    def step(self, *args, **kwargs):\n",
    "        for p in self.params:\n",
    "            p.data -= p.grad.data * self.lr\n",
    "    \n",
    "    def zero_grad(self, *args, **kwargs):\n",
    "        for p in self.params:\n",
    "            p.grad = None"
   ]
  },
  {
   "cell_type": "code",
   "execution_count": 435,
   "id": "1fbfa6a9",
   "metadata": {},
   "outputs": [],
   "source": [
    "# define optimizer class\n",
    "opt = BasicOptimizer(linear_model.parameters(), lr=1.)\n",
    "# training loop can now be written like this: \n",
    "def train_epoch(model, optimizer):\n",
    "    for xb, yb in dl_train:\n",
    "        calc_grad(xb,yb,model)\n",
    "        optimizer.step()\n",
    "        optimizer.zero_grad()"
   ]
  },
  {
   "cell_type": "code",
   "execution_count": 436,
   "id": "72802f4f",
   "metadata": {},
   "outputs": [],
   "source": [
    "def train_model(model, optimizer, n_epochs):\n",
    "    for i in range(n_epochs):\n",
    "        train_epoch(model, optimizer)\n",
    "        print(validate_model(model), end=\" \")"
   ]
  },
  {
   "cell_type": "code",
   "execution_count": 448,
   "id": "8a0aa99d",
   "metadata": {},
   "outputs": [
    {
     "name": "stdout",
     "output_type": "stream",
     "text": [
      "0.4931640625 0.7128707766532898 0.8515426516532898 0.9130660891532898 0.9360153079032898 0.9516403079032898 0.9599410891532898 0.9648239016532898 0.9677535891532898 0.9687301516532898 "
     ]
    }
   ],
   "source": [
    "linear_model = nn.Linear(28*28,1)\n",
    "opt = BasicOptimizer(linear_model.parameters(), lr=1.)\n",
    "train_model(linear_model, opt, 10)\n"
   ]
  },
  {
   "cell_type": "markdown",
   "id": "a8eb7d5e",
   "metadata": {},
   "source": [
    "We wrote the optimizer class ourselves in this intance but, you guessed it, fastai provides built-in optimizers like this. For example, _stochastic_ gradient descent "
   ]
  },
  {
   "cell_type": "code",
   "execution_count": 449,
   "id": "036e2527",
   "metadata": {},
   "outputs": [
    {
     "name": "stdout",
     "output_type": "stream",
     "text": [
      "0.4931640625 0.8198043704032898 0.8329879641532898 0.9072067141532898 0.9340621829032898 0.9496871829032898 0.9579879641532898 0.9653121829032898 0.9672653079032898 0.9687301516532898 "
     ]
    }
   ],
   "source": [
    "linear_model = nn.Linear(28*28,1)\n",
    "optimizer = SGD(linear_model.parameters(), lr=1.)\n",
    "train_model(linear_model, optimizer, 10)"
   ]
  },
  {
   "cell_type": "markdown",
   "id": "85753011",
   "metadata": {},
   "source": []
  }
 ],
 "metadata": {
  "kernelspec": {
   "display_name": "Python 3.8.10 64-bit",
   "language": "python",
   "name": "python3"
  },
  "language_info": {
   "codemirror_mode": {
    "name": "ipython",
    "version": 3
   },
   "file_extension": ".py",
   "mimetype": "text/x-python",
   "name": "python",
   "nbconvert_exporter": "python",
   "pygments_lexer": "ipython3",
   "version": "3.8.10"
  },
  "vscode": {
   "interpreter": {
    "hash": "916dbcbb3f70747c44a77c7bcd40155683ae19c65e1c03b4aa3499c5328201f1"
   }
  }
 },
 "nbformat": 4,
 "nbformat_minor": 5
}
