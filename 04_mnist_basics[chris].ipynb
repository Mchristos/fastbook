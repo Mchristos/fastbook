{
 "cells": [
  {
   "cell_type": "code",
   "execution_count": 1,
   "id": "ba3b16b8",
   "metadata": {},
   "outputs": [
    {
     "ename": "",
     "evalue": "",
     "output_type": "error",
     "traceback": [
      "\u001b[1;31mCanceled future for execute_request message before replies were done"
     ]
    },
    {
     "ename": "",
     "evalue": "",
     "output_type": "error",
     "traceback": [
      "\u001b[1;31mThe Kernel crashed while executing code in the the current cell or a previous cell. Please review the code in the cell(s) to identify a possible cause of the failure. Click <a href='https://aka.ms/vscodeJupyterKernelCrash'>here</a> for more info. View Jupyter <a href='command:jupyter.viewOutput'>log</a> for further details."
     ]
    }
   ],
   "source": [
    "#hide\n",
    "!pip install -Uqq fastbook\n",
    "import fastbook\n",
    "fastbook.setup_book()"
   ]
  },
  {
   "cell_type": "code",
   "execution_count": null,
   "id": "46fd7ef6",
   "metadata": {},
   "outputs": [],
   "source": [
    "#hide\n",
    "from fastai.vision.all import *\n",
    "from fastbook import *\n",
    "\n",
    "matplotlib.rc('image', cmap='Greys')"
   ]
  },
  {
   "cell_type": "code",
   "execution_count": null,
   "id": "bd8d9595",
   "metadata": {},
   "outputs": [],
   "source": [
    "import numpy as np "
   ]
  },
  {
   "cell_type": "markdown",
   "id": "4058ca85",
   "metadata": {},
   "source": [
    "# Read input data: digit images"
   ]
  },
  {
   "cell_type": "code",
   "execution_count": null,
   "id": "176c61b5",
   "metadata": {},
   "outputs": [
    {
     "data": {
      "text/plain": [
       "(#3) [Path('/home/mchristos/.fastai/data/mnist_sample/labels.csv'),Path('/home/mchristos/.fastai/data/mnist_sample/valid'),Path('/home/mchristos/.fastai/data/mnist_sample/train')]"
      ]
     },
     "execution_count": 7,
     "metadata": {},
     "output_type": "execute_result"
    }
   ],
   "source": [
    "path = untar_data(URLs.MNIST_SAMPLE)\n",
    "path.ls()"
   ]
  },
  {
   "cell_type": "markdown",
   "id": "ad907c44",
   "metadata": {},
   "source": [
    "We have a training and validation set of mnist digits 3 and 7 "
   ]
  },
  {
   "cell_type": "code",
   "execution_count": null,
   "id": "cf7afda7",
   "metadata": {},
   "outputs": [],
   "source": [
    "threePaths = (path/'train'/'3').ls()\n",
    "sevenPaths = (path/'train'/'7').ls()"
   ]
  },
  {
   "cell_type": "markdown",
   "id": "bb7855ae",
   "metadata": {},
   "source": [
    "Run below to see a random three or seven image"
   ]
  },
  {
   "cell_type": "code",
   "execution_count": null,
   "id": "e842a7a7",
   "metadata": {},
   "outputs": [
    {
     "data": {
      "image/png": "[encoded data removed]",
      "text/plain": [
       "<PIL.PngImagePlugin.PngImageFile image mode=L size=28x28 at 0x7FEEE262EFA0>"
      ]
     },
     "execution_count": 57,
     "metadata": {},
     "output_type": "execute_result"
    }
   ],
   "source": [
    "randomIndex = np.random.randint(len(threePaths))\n",
    "im3=Image.open(threePaths[randomIndex])\n",
    "im3"
   ]
  },
  {
   "cell_type": "code",
   "execution_count": null,
   "id": "451591a3",
   "metadata": {},
   "outputs": [
    {
     "data": {
      "image/png": "[encoded data removed]",
      "text/plain": [
       "<PIL.PngImagePlugin.PngImageFile image mode=L size=28x28 at 0x7FEEE2659F70>"
      ]
     },
     "execution_count": 58,
     "metadata": {},
     "output_type": "execute_result"
    }
   ],
   "source": [
    "randomIndex = np.random.randint(len(sevenPaths))\n",
    "im7=Image.open(sevenPaths[randomIndex])\n",
    "im7"
   ]
  },
  {
   "cell_type": "code",
   "execution_count": null,
   "id": "6a2fdc10",
   "metadata": {},
   "outputs": [
    {
     "data": {
      "text/plain": [
       "tensor([[  0,   0,   0,   0,   0,   0,   0,   0,  18, 171, 233,  18,   0,   0,   0,   0],\n",
       "        [  0,   0,   0,   0,   0,   0,   0,  43, 207, 254, 254, 207,  88,  21,   0,   0],\n",
       "        [  0,   0,   0,   0,   0,   0,   0, 201, 254, 254, 254, 254, 254, 237,  25,   0],\n",
       "        [  0,   0,   0,   0,   0,   0,   0, 162, 254, 254, 254, 254, 254, 254,  54,   0],\n",
       "        [  0,   0,   0,   0,   0,   0,   0,  15,  53,  53,  78, 254, 254, 254,   9,   0],\n",
       "        [  0,   0,   0,   0,   0,   0,   0,   0,   0,  18, 149, 254, 254, 252,   8,   0],\n",
       "        [  0,   0,   0,   0,   0,   0,   0,   0,  20, 146, 254, 254, 254, 144,   0,   0],\n",
       "        [  0,   0,   0,   0,   0,   0,   0, 128, 214, 254, 254, 254, 225,   2,   0,   0],\n",
       "        [  0,   0,   0,   0,   0,   0,  80, 254, 254, 254, 254, 254, 247,  70,   0,   0],\n",
       "        [  0,   0,   0,   0,   0,   0,  86, 254, 254, 254, 254, 254, 254, 245, 102,   0],\n",
       "        [  0,   0,   0,   0,   0,   0,  45, 109,  44,  44,  98, 236, 254, 254, 243,  18],\n",
       "        [  0,   0,   0,   0,   0,   0,   0,   0,   0,   0,   0,  39, 254, 254, 254,  98],\n",
       "        [  0,   0,   0,   0,   1,  40,  95,  95,  42,   0,   0,   5, 203, 254, 254, 199],\n",
       "        [  0,   0,   0,   0, 111, 254, 254, 254, 168,   0,   0,   6, 206, 254, 254, 112],\n",
       "        [  0,   0,   0,  59, 253, 254, 254, 254,  84,   0,   0,  97, 254, 254, 254,  57],\n",
       "        [  0,   0,   0, 126, 254, 254, 254, 138,  14,  35, 139, 250, 254, 254, 217,  10],\n",
       "        [  0,   0,   0,  75, 246, 254, 254, 150,  11, 216, 254, 254, 254, 254,  65,   0],\n",
       "        [  0,   0,   0,   0, 118, 247, 254, 254, 209, 249, 254, 254, 243, 110,   2,   0],\n",
       "        [  0,   0,   0,   0,   0,  84, 246, 254, 254, 254, 253, 197,  40,   0,   0,   0],\n",
       "        [  0,   0,   0,   0,   0,   0,  26, 189, 254, 175, 114,   0,   0,   0,   0,   0],\n",
       "        [  0,   0,   0,   0,   0,   0,   0,   0,   0,   0,   0,   0,   0,   0,   0,   0],\n",
       "        [  0,   0,   0,   0,   0,   0,   0,   0,   0,   0,   0,   0,   0,   0,   0,   0],\n",
       "        [  0,   0,   0,   0,   0,   0,   0,   0,   0,   0,   0,   0,   0,   0,   0,   0],\n",
       "        [  0,   0,   0,   0,   0,   0,   0,   0,   0,   0,   0,   0,   0,   0,   0,   0]], dtype=torch.uint8)"
      ]
     },
     "execution_count": 60,
     "metadata": {},
     "output_type": "execute_result"
    }
   ],
   "source": [
    "tensor(im3)[4:30,4:20]"
   ]
  },
  {
   "cell_type": "markdown",
   "id": "483f3353",
   "metadata": {},
   "source": [
    "# First Model"
   ]
  },
  {
   "cell_type": "code",
   "execution_count": null,
   "id": "98a3a34a",
   "metadata": {},
   "outputs": [],
   "source": [
    "threes = [tensor(Image.open(x)) for x in threePaths ]\n",
    "sevens = [tensor(Image.open(x)) for x in sevenPaths ]"
   ]
  },
  {
   "cell_type": "code",
   "execution_count": null,
   "id": "2c3ae8a6",
   "metadata": {},
   "outputs": [
    {
     "name": "stdout",
     "output_type": "stream",
     "text": [
      "6131 6265\n"
     ]
    }
   ],
   "source": [
    "print(len(threes), len(sevens))"
   ]
  },
  {
   "cell_type": "code",
   "execution_count": null,
   "id": "37c15f51",
   "metadata": {},
   "outputs": [
    {
     "data": {
      "text/plain": [
       "<AxesSubplot:>"
      ]
     },
     "execution_count": 75,
     "metadata": {},
     "output_type": "execute_result"
    },
    {
     "data": {
      "image/png": "[encoded data removed]",
      "text/plain": [
       "<Figure size 72x72 with 1 Axes>"
      ]
     },
     "metadata": {
      "needs_background": "light"
     },
     "output_type": "display_data"
    }
   ],
   "source": [
    "show_image(threes[0])"
   ]
  },
  {
   "cell_type": "code",
   "execution_count": null,
   "id": "7403a5e1",
   "metadata": {},
   "outputs": [],
   "source": [
    "stacked_threes = torch.stack(threes).float()\n",
    "stacked_sevens = torch.stack(sevens).float()"
   ]
  },
  {
   "cell_type": "code",
   "execution_count": null,
   "id": "a490dea7",
   "metadata": {},
   "outputs": [
    {
     "name": "stdout",
     "output_type": "stream",
     "text": [
      "tensor(0.) tensor(255.)\n",
      "tensor(0.) tensor(255.)\n"
     ]
    }
   ],
   "source": [
    "print(stacked_threes.min(), stacked_threes.max())\n",
    "print(stacked_threes.min(), stacked_sevens.max())"
   ]
  },
  {
   "cell_type": "markdown",
   "id": "35dc71d2",
   "metadata": {},
   "source": [
    "Image pixel values are between 0 and 255 so we can scale it to be between - and 1 "
   ]
  },
  {
   "cell_type": "code",
   "execution_count": null,
   "id": "fe52358f",
   "metadata": {},
   "outputs": [],
   "source": [
    "stacked_threes = torch.stack(threes).float()/255\n",
    "stacked_sevens = torch.stack(sevens).float()/255"
   ]
  },
  {
   "cell_type": "code",
   "execution_count": null,
   "id": "509f851f",
   "metadata": {},
   "outputs": [
    {
     "data": {
      "text/plain": [
       "torch.Size([6131, 28, 28])"
      ]
     },
     "execution_count": 111,
     "metadata": {},
     "output_type": "execute_result"
    }
   ],
   "source": [
    "stacked_threes.shape"
   ]
  },
  {
   "cell_type": "code",
   "execution_count": null,
   "id": "4e26289e",
   "metadata": {},
   "outputs": [
    {
     "data": {
      "text/plain": [
       "6131"
      ]
     },
     "execution_count": 112,
     "metadata": {},
     "output_type": "execute_result"
    }
   ],
   "source": [
    "len(stacked_threes)"
   ]
  },
  {
   "cell_type": "markdown",
   "id": "97234d75",
   "metadata": {},
   "source": [
    "We now have all our images stacked up in a single tensor (can imagine a cube stacked up with 2D images). Each image is 28 x 28, and for threes we have 6131 images. Interestingly the len() of these pytorch tensors are the rank (or dimension), i.e. 3"
   ]
  },
  {
   "cell_type": "code",
   "execution_count": null,
   "id": "cde0457c",
   "metadata": {},
   "outputs": [
    {
     "data": {
      "text/plain": [
       "<AxesSubplot:>"
      ]
     },
     "execution_count": 113,
     "metadata": {},
     "output_type": "execute_result"
    },
    {
     "data": {
      "image/png": "[encoded data removed]",
      "text/plain": [
       "<Figure size 72x72 with 1 Axes>"
      ]
     },
     "metadata": {
      "needs_background": "light"
     },
     "output_type": "display_data"
    }
   ],
   "source": [
    "show_image(stacked_threes[0])"
   ]
  },
  {
   "cell_type": "markdown",
   "id": "405c2aca",
   "metadata": {},
   "source": [
    "## compute the \"average\" 3"
   ]
  },
  {
   "cell_type": "markdown",
   "id": "cff75556",
   "metadata": {},
   "source": [
    "We simply compute the mean over all images, i.e. mean along the 0 axis (the one of length number of images)"
   ]
  },
  {
   "cell_type": "code",
   "execution_count": null,
   "id": "cea312a1",
   "metadata": {},
   "outputs": [
    {
     "data": {
      "text/plain": [
       "<AxesSubplot:>"
      ]
     },
     "execution_count": 120,
     "metadata": {},
     "output_type": "execute_result"
    },
    {
     "data": {
      "image/png": "[encoded data removed]",
      "text/plain": [
       "<Figure size 72x72 with 1 Axes>"
      ]
     },
     "metadata": {
      "needs_background": "light"
     },
     "output_type": "display_data"
    }
   ],
   "source": [
    "mean_three = stacked_threes.mean(0)\n",
    "show_image(mean_three)"
   ]
  },
  {
   "cell_type": "code",
   "execution_count": null,
   "id": "4e15365f",
   "metadata": {},
   "outputs": [
    {
     "data": {
      "text/plain": [
       "<AxesSubplot:>"
      ]
     },
     "execution_count": 126,
     "metadata": {},
     "output_type": "execute_result"
    },
    {
     "data": {
      "image/png": "[encoded data removed]",
      "text/plain": [
       "<Figure size 72x72 with 1 Axes>"
      ]
     },
     "metadata": {
      "needs_background": "light"
     },
     "output_type": "display_data"
    }
   ],
   "source": [
    "mean_svn = stacked_sevens.mean(0)\n",
    "show_image(mean_svn)"
   ]
  },
  {
   "cell_type": "code",
   "execution_count": null,
   "id": "ec57a3c3",
   "metadata": {},
   "outputs": [
    {
     "data": {
      "text/plain": [
       "torch.Tensor"
      ]
     },
     "execution_count": 125,
     "metadata": {},
     "output_type": "execute_result"
    }
   ],
   "source": [
    "type(mean_three)"
   ]
  },
  {
   "cell_type": "code",
   "execution_count": null,
   "id": "6da84c89",
   "metadata": {},
   "outputs": [],
   "source": [
    "def classify(image: torch.Tensor):\n",
    "    \"\"\"\n",
    "    Classify as 28 x 28 image represented as a pytorch tensor\n",
    "    \n",
    "    Returns the digit which has the least mean squared distance from the image. i.e. we decide if itsa seven or a three \n",
    "    by seeing which \"ideal\" digit its closest to\n",
    "    \"\"\"\n",
    "    distance_three = ((image - mean_three)**2).sum().sqrt()\n",
    "    # or, compute this with the pytorch loss function MSE (mean squared error) \n",
    "    distance_three = F.mse_loss(image, mean_three).sqrt()\n",
    "    distance_svn = F.mse_loss(image, mean_svn).sqrt()\n",
    "    return 0 if distance_svn < distance_three else 1"
   ]
  },
  {
   "cell_type": "markdown",
   "id": "affced42",
   "metadata": {},
   "source": [
    "## Evaluate our classifier on the test set "
   ]
  },
  {
   "cell_type": "code",
   "execution_count": null,
   "id": "142389b8",
   "metadata": {},
   "outputs": [],
   "source": [
    "testThrees = [tensor(Image.open(p)) for p in (path/'valid'/'3').ls()]\n",
    "testSvns = [tensor(Image.open(p)) for p in (path/'valid'/'7').ls()]"
   ]
  },
  {
   "cell_type": "code",
   "execution_count": null,
   "id": "89089a02",
   "metadata": {},
   "outputs": [],
   "source": [
    "X = testThrees + testSvns\n",
    "y = tensor(len(testThrees)*[1] + len(testSvns)*[0]) "
   ]
  },
  {
   "cell_type": "code",
   "execution_count": null,
   "id": "9c366729",
   "metadata": {},
   "outputs": [],
   "source": [
    "y_pred = tensor([classify(x) for x in X])"
   ]
  },
  {
   "cell_type": "code",
   "execution_count": null,
   "id": "e41738c1",
   "metadata": {},
   "outputs": [
    {
     "data": {
      "text/plain": [
       "tensor([1, 1, 1,  ..., 1, 0, 0])"
      ]
     },
     "execution_count": 235,
     "metadata": {},
     "output_type": "execute_result"
    }
   ],
   "source": [
    "y_pred"
   ]
  },
  {
   "cell_type": "code",
   "execution_count": null,
   "id": "e2286a22",
   "metadata": {},
   "outputs": [
    {
     "data": {
      "text/plain": [
       "tensor(0.9475)"
      ]
     },
     "execution_count": 236,
     "metadata": {},
     "output_type": "execute_result"
    }
   ],
   "source": [
    "accuracy = 1- ((y - y_pred)**2).sum()/len(y)\n",
    "accuracy"
   ]
  },
  {
   "cell_type": "code",
   "execution_count": null,
   "id": "0e36d221",
   "metadata": {},
   "outputs": [
    {
     "data": {
      "text/plain": [
       "tensor(0.9161)"
      ]
     },
     "execution_count": 237,
     "metadata": {},
     "output_type": "execute_result"
    }
   ],
   "source": [
    "# Precision on predicting 3 \n",
    "# i.e. out of all the times we predicted 3, what fraction was correct? \n",
    "precision_3 = torch.logical_and(y_pred == 1,y == y_pred).sum() / (y_pred==1).sum()\n",
    "precision_3"
   ]
  },
  {
   "cell_type": "code",
   "execution_count": null,
   "id": "1b96830a",
   "metadata": {},
   "outputs": [
    {
     "data": {
      "text/plain": [
       "tensor(0.9842)"
      ]
     },
     "execution_count": 238,
     "metadata": {},
     "output_type": "execute_result"
    }
   ],
   "source": [
    "# Recall on digit 3 \n",
    "# i.e. out of all the true 3 digits, what fraction did we \"hit\"? \n",
    "recall_3 = torch.logical_and(y == 1,y == y_pred).sum() / (y==1).sum()\n",
    "recall_3"
   ]
  },
  {
   "cell_type": "markdown",
   "id": "33820aa9",
   "metadata": {},
   "source": [
    "Our recall is more than 98%, so almost all of the actual 3's we predict correctly. OUr precision on 3 is a bit lower, so that means that we're predicting 3 on some digits that were actually a 7. As you can see below, we are predicting 1085 digits to be a 3 but there are only 1010 true 3s."
   ]
  },
  {
   "cell_type": "code",
   "execution_count": null,
   "id": "887de53c",
   "metadata": {},
   "outputs": [
    {
     "name": "stdout",
     "output_type": "stream",
     "text": [
      "tensor(1085)\n",
      "tensor(1010)\n"
     ]
    }
   ],
   "source": [
    "print((y_pred==1).sum())\n",
    "print((y==1).sum())"
   ]
  },
  {
   "cell_type": "markdown",
   "id": "762afa1c",
   "metadata": {},
   "source": [
    "Overall pretty damn impressive for such a naive algorithm! "
   ]
  },
  {
   "cell_type": "markdown",
   "id": "744e2b02",
   "metadata": {},
   "source": [
    "## Vectorize that code "
   ]
  },
  {
   "cell_type": "markdown",
   "id": "23654ac8",
   "metadata": {},
   "source": [
    "I wrote that off the top of my head, and one bad thing I did is use a python loop (list comprehension) to compute all the predictions in batch on the validation set. Lets rather do this in a vectorized manner "
   ]
  },
  {
   "cell_type": "code",
   "execution_count": null,
   "id": "29fc09ad",
   "metadata": {},
   "outputs": [],
   "source": [
    "def mnist_distance(im_a, im_b): return ((im_a - im_b)**2).sum().sqrt()\n",
    "def mnist_distance(a,b): return (a-b).abs().mean((-1,-2))"
   ]
  },
  {
   "cell_type": "code",
   "execution_count": null,
   "id": "74ae22ed",
   "metadata": {},
   "outputs": [],
   "source": [
    "valid_3s = torch.stack([tensor(Image.open(p)) for p in (path/'valid'/'3').ls()]).float()/255\n",
    "valid_7s = torch.stack([tensor(Image.open(p)) for p in (path/'valid'/'7').ls()]).float()/255"
   ]
  },
  {
   "cell_type": "code",
   "execution_count": null,
   "id": "0a6e06d9",
   "metadata": {},
   "outputs": [],
   "source": [
    "def is_3(image): return mnist_distance(image, mean_three) < mnist_distance(image, mean_svn)"
   ]
  },
  {
   "cell_type": "code",
   "execution_count": null,
   "id": "7623256c",
   "metadata": {},
   "outputs": [],
   "source": [
    "X_val = torch.stack([*valid_3s, *valid_7s])\n",
    "y_val = tensor(len(valid_3s)*[1] + len(valid_7s)*[0]).float()"
   ]
  },
  {
   "cell_type": "code",
   "execution_count": null,
   "id": "2e8be623",
   "metadata": {},
   "outputs": [],
   "source": [
    "y_pred = is_3(X_val).float()"
   ]
  },
  {
   "cell_type": "code",
   "execution_count": null,
   "id": "cb0c68e3",
   "metadata": {},
   "outputs": [
    {
     "data": {
      "text/plain": [
       "tensor(0.9514)"
      ]
     },
     "execution_count": 315,
     "metadata": {},
     "output_type": "execute_result"
    }
   ],
   "source": [
    "accuracy = (y_pred == y_val).sum() / len(y_val)\n",
    "accuracy"
   ]
  },
  {
   "cell_type": "code",
   "execution_count": null,
   "id": "412f5939",
   "metadata": {},
   "outputs": [
    {
     "data": {
      "text/plain": [
       "tensor(0.9841)"
      ]
     },
     "execution_count": 317,
     "metadata": {},
     "output_type": "execute_result"
    }
   ],
   "source": [
    "precision_3 = torch.logical_and(y_pred == 1,y_val == y_pred).sum() / (y_pred==1).sum()\n",
    "precision_3"
   ]
  },
  {
   "cell_type": "code",
   "execution_count": null,
   "id": "6c000b85",
   "metadata": {},
   "outputs": [
    {
     "data": {
      "text/plain": [
       "array([[1013,   15],\n",
       "       [  84,  926]])"
      ]
     },
     "execution_count": 318,
     "metadata": {},
     "output_type": "execute_result"
    }
   ],
   "source": [
    "from sklearn.metrics import confusion_matrix\n",
    "confusion_matrix(y_val, y_pred)"
   ]
  },
  {
   "cell_type": "markdown",
   "id": "a4a7cf2b",
   "metadata": {},
   "source": [
    "## Training a REAL model "
   ]
  },
  {
   "cell_type": "markdown",
   "id": "c19efff4",
   "metadata": {},
   "source": [
    "lets prepare our training data - we'll flatten each image into a single vector (28x28=784) and use 784 weights, one for each pixel. "
   ]
  },
  {
   "cell_type": "code",
   "execution_count": null,
   "id": "a53edf50",
   "metadata": {},
   "outputs": [],
   "source": [
    "threes = [tensor(Image.open(x)) for x in (path/'train'/'3').ls() ]\n",
    "sevens = [tensor(Image.open(x)) for x in (path/'train'/'7').ls() ]\n",
    "stacked_3s = torch.stack(threes).float()/255\n",
    "stacked_7s = torch.stack(sevens).float()/255"
   ]
  },
  {
   "cell_type": "code",
   "execution_count": null,
   "id": "35efcc38",
   "metadata": {},
   "outputs": [
    {
     "name": "stdout",
     "output_type": "stream",
     "text": [
      "torch.Size([6131, 28, 28])\n",
      "torch.Size([6265, 28, 28])\n"
     ]
    }
   ],
   "source": [
    "print(stacked_3s.shape)\n",
    "print(stacked_7s.shape)"
   ]
  },
  {
   "cell_type": "code",
   "execution_count": null,
   "id": "e31a30d7",
   "metadata": {},
   "outputs": [
    {
     "data": {
      "text/plain": [
       "torch.Size([12396, 784])"
      ]
     },
     "execution_count": 334,
     "metadata": {},
     "output_type": "execute_result"
    }
   ],
   "source": [
    "# cast each 2d image into a 1d array \n",
    "train_x = torch.cat([stacked_3s, stacked_7s]).view(-1,28*28)\n",
    "train_x.shape"
   ]
  },
  {
   "cell_type": "code",
   "execution_count": null,
   "id": "d94b1619",
   "metadata": {},
   "outputs": [
    {
     "data": {
      "text/plain": [
       "torch.Size([12396, 1])"
      ]
     },
     "execution_count": 341,
     "metadata": {},
     "output_type": "execute_result"
    }
   ],
   "source": [
    "# in python list1 + list2 concatenates the contents of the two lists\n",
    "train_y = tensor([1]*len(threes) + [0]*len(sevens)).unsqueeze(1)\n",
    "train_y.shape"
   ]
  },
  {
   "cell_type": "code",
   "execution_count": null,
   "id": "a7b2f429",
   "metadata": {},
   "outputs": [],
   "source": [
    "def init_params(size, std=1.0): return (torch.randn(size)*std).requires_grad_()"
   ]
  },
  {
   "cell_type": "code",
   "execution_count": null,
   "id": "f3e10669",
   "metadata": {},
   "outputs": [],
   "source": [
    "# y = w*x + b\n",
    "weights = init_params(28*28)\n",
    "bias = init_params(1)"
   ]
  },
  {
   "cell_type": "code",
   "execution_count": null,
   "id": "8acf23d4",
   "metadata": {},
   "outputs": [],
   "source": [
    "def linear1(X):\n",
    "    return X@weights + bias"
   ]
  },
  {
   "cell_type": "code",
   "execution_count": null,
   "id": "b0036221",
   "metadata": {},
   "outputs": [],
   "source": []
  }
 ],
 "metadata": {
  "kernelspec": {
   "display_name": "Python 3.8.10 ('venv': venv)",
   "language": "python",
   "name": "python3"
  },
  "language_info": {
   "codemirror_mode": {
    "name": "ipython",
    "version": 3
   },
   "file_extension": ".py",
   "mimetype": "text/x-python",
   "name": "python",
   "nbconvert_exporter": "python",
   "pygments_lexer": "ipython3",
   "version": "3.8.10"
  },
  "vscode": {
   "interpreter": {
    "hash": "2062646410148c61e60dd5b8369538da1a9b26d21d601cb9bd1ea173ddc25c8d"
   }
  }
 },
 "nbformat": 4,
 "nbformat_minor": 5
}
